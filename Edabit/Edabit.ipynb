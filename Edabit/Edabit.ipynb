{
 "cells": [
  {
   "attachments": {},
   "cell_type": "markdown",
   "metadata": {},
   "source": [
    "# Table of Contents\n",
    "\n",
    "1. [Introduction](#introduction)\n",
    "2. [Challenge 1: Moving to the End](#challenge-1-moving-to-the-end)\n",
    "3. [Challenge 2: Count Palindrome Numbers in a Range](#challenge-2-count-palindrome-numbers-in-a-range)\n"
   ]
  },
  {
   "attachments": {},
   "cell_type": "markdown",
   "metadata": {},
   "source": [
    "## Introduction<a id=\"introduction\"></a>\n",
    "\n",
    "This Jupyter notebook contains a collection of Edabit challenges and their solutions. Each challenge focuses on a specific programming problem and requires you to write a function that solves it. The challenges are designed to improve your coding skills and problem-solving abilities by forcing you to think about the problem and how to solve it in a logical way."
   ]
  },
  {
   "attachments": {},
   "cell_type": "markdown",
   "metadata": {},
   "source": [
    "## Challenge 1: Moving to the End<a id=\"challenge-1-moving-to-the-end\"></a>"
   ]
  },
  {
   "attachments": {},
   "cell_type": "markdown",
   "metadata": {},
   "source": [
    "This function moves all elements of a specified type to the end of the list, while preserving the order of the remaining elements.\n",
    "\n",
    "**Examples:**\n",
    "\n",
    "```python\n",
    "move_to_end([1, 3, 2, 4, 4, 1], 1)  # [3, 2, 4, 4, 1, 1]\n",
    "move_to_end([7, 8, 9, 1, 2, 3, 4], 9)  # [7, 8, 1, 2, 3, 4, 9]\n",
    "move_to_end([\"a\", \"a\", \"a\", \"b\"], \"a\")  # [\"b\", \"a\", \"a\", \"a\"]\n",
    "```\n",
    "**Note**: Keep the order of the un-moved items the same.\n"
   ]
  },
  {
   "cell_type": "code",
   "execution_count": 4,
   "metadata": {},
   "outputs": [
    {
     "name": "stdout",
     "output_type": "stream",
     "text": [
      "[3, 2, 4, 4, 1, 1]\n",
      "[7, 8, 1, 2, 3, 4, 9]\n",
      "['b', 'a', 'a', 'a']\n"
     ]
    }
   ],
   "source": [
    "# move_to_end - https://edabit.com/challenge/nTW4KgmJxpLDXcWPt\n",
    "# Discraption: Create a function that moves all instances of the given element to the end of the list.\n",
    "# Parameters: lst, element\n",
    "# Return: list\n",
    "# Author: Mohammed Ismail \n",
    "# GitHub: https://github.com/Som3a99\n",
    "\n",
    "def move_to_end(lst, element):\n",
    "    new_lst = []  # Initialize an empty list to store the modified elements\n",
    "    \n",
    "    # Iterate over each element in the original list\n",
    "    for x in lst:\n",
    "        if x != element:  # Check if the element is not equal to the specified element\n",
    "            new_lst.append(x)  # Append the element to the new list\n",
    "    \n",
    "    # Extend the new list with the specified element repeated the number of times it occurred in the original list\n",
    "    new_lst.extend([element] * lst.count(element))\n",
    "    \n",
    "    return new_lst  # Return the modified list\n",
    "\n",
    "\n",
    "print(move_to_end([1, 3, 2, 4, 4, 1], 1))\n",
    "# Output: [3, 2, 4, 4, 1, 1]\n",
    "\n",
    "print(move_to_end([7, 8, 9, 1, 2, 3, 4], 9))\n",
    "# Output: [7, 8, 1, 2, 3, 4, 9]\n",
    "\n",
    "print(move_to_end([\"a\", \"a\", \"a\", \"b\"], \"a\"))\n",
    "# Output: [\"b\", \"a\", \"a\", \"a\"]\n"
   ]
  },
  {
   "attachments": {},
   "cell_type": "markdown",
   "metadata": {},
   "source": [
    "## Challenge 2: Count Palindrome Numbers in a Range<a id=\"challenge-2-count-palindrome-numbers-in-a-range\"></a>"
   ]
  },
  {
   "attachments": {},
   "cell_type": "markdown",
   "metadata": {},
   "source": [
    "Create a function that returns the number of palindrome numbers in a specified range (inclusive).\n",
    "For example, between 8 and 34, there are 5 palindromes: 8, 9, 11, 22 and 33. Between 1550 and 1552 there is exactly one palindrome: 1551.\n",
    "\n",
    "**Examples:**\n",
    "\n",
    "```python\n",
    "count_palindromes(1, 10) ➞ 9\n",
    "\n",
    "count_palindromes(555, 556) ➞ 1\n",
    "\n",
    "count_palindromes(878, 898) ➞ 3\n",
    "```\n",
    "**Notes:**\n",
    "* A palindrome number is a number which remains the same when its digits are reversed. For example, 2552 reversed is still 2552. The reflectional symmetry of this number makes it a palindromic number.\n",
    "* Single-digit numbers are trivially palindrome numbers."
   ]
  },
  {
   "cell_type": "code",
   "execution_count": 19,
   "metadata": {},
   "outputs": [
    {
     "name": "stdout",
     "output_type": "stream",
     "text": [
      "9\n",
      "1\n",
      "3\n"
     ]
    }
   ],
   "source": [
    "# Count Palindromes - https://edabit.com/challenge/QEDPxbfHjvWXQQtpH\n",
    "# Discraption: Create a function that counts how many palindromes there are in a range of numbers (inclusive).\n",
    "# Parameters: start, end\n",
    "# Return: int\n",
    "# Author: Mohammed Ismail\n",
    "# GitHub: https://github.com/Som3a99\n",
    "\n",
    "def count_palindromes(start, end):\n",
    "    count = 0 # Initialize a variable to store the count of palindromes\n",
    "\n",
    "    # Iterate over each number in the range\n",
    "    for num in range(start, end + 1):\n",
    "        # Check if the number is a palindrome\n",
    "        reversed_num = 0 # Initialize a variable to store the reversed number\n",
    "        original_num = num # Store the original number in a variable\n",
    "\n",
    "        while num > 0:\n",
    "            # Reverse the number\n",
    "            remainder = num % 10 # Get the last digit of the number\n",
    "            reversed_num = (reversed_num * 10) + remainder # Add the last digit to the reversed number\n",
    "            num = num // 10 # Remove the last digit from the number\n",
    "\n",
    "        if original_num == reversed_num:\n",
    "            # Increment the count if the number is a palindrome\n",
    "            count += 1 # Increment the count\n",
    "\n",
    "    return count # Return the count\n",
    "\n",
    "print(count_palindromes(1, 10))\n",
    "# Output: 9\n",
    "\n",
    "print(count_palindromes(555, 556))\n",
    "# Output: 1\n",
    "\n",
    "print(count_palindromes(878, 898))\n",
    "# Output: 3\n"
   ]
  },
  {
   "cell_type": "code",
   "execution_count": 20,
   "metadata": {},
   "outputs": [
    {
     "name": "stdout",
     "output_type": "stream",
     "text": [
      "9\n",
      "1\n",
      "3\n"
     ]
    }
   ],
   "source": [
    "# Another Solution for Count Palindromes - https://edabit.com/challenge/QEDPxbfHjvWXQQtpH\n",
    "# By reversing the range and checking if the reversed number is equal to the original number\n",
    "# Parameters: start, end\n",
    "# Return: int\n",
    "\n",
    "def count_palindromes(start, end):\n",
    "    count = 0\n",
    "\n",
    "    # Iterate over each number in the range\n",
    "    for num in range(start, end + 1):\n",
    "        # Check if the number is a palindrome\n",
    "        if str(num) == str(num)[::-1]:\n",
    "            count += 1\n",
    "    \n",
    "    return count\n",
    "\n",
    "print(count_palindromes(1, 10))\n",
    "# Output: 9\n",
    "\n",
    "print(count_palindromes(555, 556))\n",
    "# Output: 1\n",
    "\n",
    "print(count_palindromes(878, 898))\n",
    "# Output: 3\n"
   ]
  }
 ],
 "metadata": {
  "kernelspec": {
   "display_name": "Python 3",
   "language": "python",
   "name": "python3"
  },
  "language_info": {
   "codemirror_mode": {
    "name": "ipython",
    "version": 3
   },
   "file_extension": ".py",
   "mimetype": "text/x-python",
   "name": "python",
   "nbconvert_exporter": "python",
   "pygments_lexer": "ipython3",
   "version": "3.11.4"
  },
  "orig_nbformat": 4
 },
 "nbformat": 4,
 "nbformat_minor": 2
}
