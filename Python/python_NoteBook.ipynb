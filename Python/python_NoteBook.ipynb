{
 "cells": [
  {
   "attachments": {},
   "cell_type": "markdown",
   "metadata": {},
   "source": [
    "# Python NoteBook <a id=\"Python NoteBook\"></a>"
   ]
  },
  {
   "attachments": {},
   "cell_type": "markdown",
   "metadata": {},
   "source": [
    "- [Table of Contents](#table-of-contents)\n",
    "  - [What is Python? and why Python?](#what-is-python-and-why-python)\n",
    "  - [Definitions](#definitions)\n",
    "  - [What do I need to start with Python?](#what-do-i-need-to-start-with-python)\n",
    "    - [Download Python](#download-python)\n",
    "    - [Python Environment](#python-environment)\n",
    "  - [Python Syntax](#python-syntax)\n",
    "    - [Hello World](#hello-world)\n",
    "  - [Python Comments](#python-comments)\n",
    "    - [What are Python Comments?](#what-are-python-comments)\n",
    "  - [Python Data Types and Variables](#python-data-types-and-variables)\n",
    "    - [Variables](#variables)\n",
    "    - [Keywords](#keywords)\n",
    "    - [Multiple Assignment](#multiple-assignment)\n",
    "    - [One Value to Multiple Variables](#one-value-to-multiple-variables)\n",
    "    - [Unpack a Collection](#unpack-a-collection)\n",
    "    - [Global Variables](#global-variables)\n",
    "  - [Escape Characters](#escape-characters)\n",
    "    - [Escape Characters](#escape-characters-1)\n",
    "  - [Concatenation](#concatenation)\n",
    "    - [Quotes](#quotes)\n",
    "  - [Indexing and Slicing](#indexing-and-slicing)\n",
    "  - [String Length](#string-length)\n",
    "  - [String Methods](#string-methods)\n",
    "    - [String Methods](#string-methods-1)\n",
    "  - [Strings Formatting](#strings-formatting)\n",
    "    - [Strings Formatting By using placeholders](#strings-formatting-by-using-placeholders)\n",
    "    - [Strings Formatting By using format() method](#strings-formatting-by-using-format-method)\n",
    "  - [Numbers](#numbers)\n",
    "    - [Arithmetic Operators](#arithmetic-operators)\n",
    "  - [Data Structures](#data-structures)\n",
    "    - [Lists](#lists)\n",
    "      - [List methods](#list-methods)\n",
    "    - [Tuples](#tuples)\n",
    "      - [Tuples methods](#tuples-methods)\n",
    "    - [Sets](#sets)\n",
    "      - [Sets methods](#sets-methods)\n",
    "    - [Dictionaries](#dictionaries)\n",
    "      - [Dictionaries methods](#dictionaries-methods)\n",
    "    - [Booleans](#booleans)\n",
    "      - [Boolean Operators](#boolean-operators)\n",
    "      - [Assignment Operators](#assignment-operators)\n",
    "      - [Comparison Operators](#comparison-operators)\n",
    "  - [Type Conversion](#type-conversion)\n",
    "  - [User Input](#user-input)\n",
    "  - [Practical Examples](#practical-examples)\n",
    "    - [Practical slice email](#practical-slice-email)\n",
    "    - [Practical Age Full Details](#practical-age-full-details)\n",
    "  - [Control Flow](#control-flow)\n",
    "    - [If Statement](#if-statement)\n",
    "    - [Ternaly Operator](#ternaly-operator)\n",
    "    - [Practical Age Full Details Advanced](#practical-age-full-details-advanced)\n",
    "    - [Membership Operators](#membership-operators)\n",
    "  - [Loops](#loops)\n",
    "    - [While Loop](#while-loop)\n",
    "    - [For Loop](#for-loop)\n",
    "      - [For Nested Loop](#for-nested-loop) \n",
    "    - [Break, Continue, and Pass](#break-continue-and-pass)\n",
    "  - [Functions](#functions)\n",
    "    - [Function Packing, Unpacking Arguments](#function-packing-unpacking-arguments)\n",
    "    - [Function Default Parameters](#function-default-parameters)\n",
    "    - [Function Packing Unpacking Keyword Arguments](#function-packing-unpacking-keyword-arguments)\n",
    "    - [Function Scope](#function-scope)\n",
    "    - [Function Recursion](#function-recursion)\n",
    "    - [Lambda Functions or Anonymous Functions](#lambda-functions-or-anonymous-functions)\n",
    "    - [File Handling](#file-handling)\n"
   ]
  },
  {
   "attachments": {},
   "cell_type": "markdown",
   "metadata": {},
   "source": [
    "## What is Python? and why Python? <a id=\"what-is-python-and-why-python\"></a> "
   ]
  },
  {
   "attachments": {},
   "cell_type": "markdown",
   "metadata": {},
   "source": [
    "\n",
    "1. Python is a popular programming language. It was created by Guido van Rossum, and released in 1991.\n",
    "2. Python is an interpreted, object-oriented, high-level programming language with dynamic semantics.\n",
    "3. Python's simple, easy to learn syntax emphasizes readability and therefore reduces the cost of program maintenance.\n",
    "4. Python supports modules and packages, which encourages program modularity and code reuse.\n",
    "5. The Python interpreter and the extensive standard library are available in source or binary form without charge for all major platforms, and can be freely distributed.\n",
    "6. Python is a general-purpose programming language, so it can be used for many things. Python is used for web development, AI, machine learning, operating systems, mobile application development, and video games.\n",
    "7. Python is a scripting language, which means that it is primarily used to write scripts to automate tasks rather than to write code for applications.\n",
    "8. Python is a high-level language, which means that it is closer to human language than machine language. This makes it easier to read and understand than low-level languages.\n",
    "9. Python is an interpreted language, which means that it is not converted to machine code before it is run. This makes it easier to test and debug because you can see what the code is doing while it is running.\n",
    "10. Python is an object-oriented language, which means that it supports object-oriented programming (OOP). OOP is a programming paradigm that uses objects and classes to model real-world objects."
   ]
  },
  {
   "attachments": {},
   "cell_type": "markdown",
   "metadata": {},
   "source": [
    "## Definitions <a id=\"definitions\"></a>"
   ]
  },
  {
   "attachments": {},
   "cell_type": "markdown",
   "metadata": {},
   "source": [
    "\n",
    "1. Source code : Orginal code you write it in computer language (human readable).\n",
    "2. Translation : converting source code into Machine Language (computer readable).\n",
    "3. compilation : Translate code before run time (before executing commands).\n",
    "4. Run-Time : period App take to executing commands (after executing commands).\n",
    "5. Interpreted : code translate on the fly during execution (during executing commands).\n",
    "6. Compiler : program that translate source code into machine language.\n",
    "python is Dynamic language (interpreted language).\n",
    "7. Static language : code translate before run time (before executing commands). like C, C++, Java.\n",
    "8. Dynamic language : code translate on the fly during execution (during executing commands). like python, javascript, php.\n",
    "9. Syntax : rules of language.\n",
    "10. Syntax Error : error in rules of language.\n",
    "11. Runtime Error : error during executing commands.\n",
    "12. Semantic Error : error in logic of code.\n",
    "13. Variable : name of memory location.\n",
    "14. Value : data stored in memory.\n",
    "15. Assignment : assign value to variable.\n",
    "16. Expression : combination of variables, values, operators.\n",
    "17. Statement : line of code.\n",
    "18. Function : block of code that perform specific task.\n",
    "19. Argument : value passed to function.\n",
    "20. Parameter : variable used to store argument.\n",
    "21. Return Value : value returned from function.\n",
    "22. Built-in Function : function that comes with python.\n",
    "23. User-Defined Function : function that created by user.\n",
    "24. Method : function that belongs to object.\n",
    "25. Object : instance of class.\n",
    "26. Class : blueprint for creating objects.\n",
    "27. Attribute : variable that belongs to object.\n",
    "28. Constructor : special method that runs when object created.\n",
    "29. Instance : object created from class.\n",
    "30. Inheritance : ability to create new class from existing class.\n",
    "31. Parent Class : class that is being inherited from.\n",
    "32. Child Class : class that inherits from another class.\n",
    "33. Module : file that contains code.\n",
    "34. Package : folder that contains modules.\n",
    "35. Library : collection of packages.\n",
    "36. pip : package manager for python.\n",
    "37. PyPI : python package index.\n",
    "38. Virtual Environment : isolated environment for python projects.\n"
   ]
  },
  {
   "attachments": {},
   "cell_type": "markdown",
   "metadata": {},
   "source": [
    "## What do I need to start with Python? <a id=\"what-do-i-need-to-start-with-python\"></a>"
   ]
  },
  {
   "attachments": {},
   "cell_type": "markdown",
   "metadata": {},
   "source": [
    "### Download Python <a id=\"download-python\"></a>"
   ]
  },
  {
   "attachments": {},
   "cell_type": "markdown",
   "metadata": {},
   "source": [
    "\n",
    "    1. Go to the Python website and download the latest version of Python.\n",
    "    2. Run the installer and follow the instructions to install Python.\n",
    "    3. Open the command prompt and type python to make sure that Python is installed correctly.\n",
    "    4. If you see a message like Python 3.9.0, then Python is installed correctly.\n",
    "    5. If you see a message like 'python' is not recognized as an internal or external command, operable program or batch file., then Python is not installed correctly.\n",
    "\n"
   ]
  },
  {
   "attachments": {},
   "cell_type": "markdown",
   "metadata": {},
   "source": [
    "### Python Environment <a id=\"python-environment\"></a>\n",
    "1. Text editor or IDE (Integrated Development Environment)\n",
    "2. python extension for VSCode\n",
    "3. python extension for Jupyter Notebook\n",
    "4. python extension for PyCharm\n",
    "5. python extension for Atom"
   ]
  },
  {
   "attachments": {},
   "cell_type": "markdown",
   "metadata": {},
   "source": [
    "## Python Syntax <a id=\"python-syntax\"></a>"
   ]
  },
  {
   "attachments": {},
   "cell_type": "markdown",
   "metadata": {},
   "source": [
    "1. Python is a case-sensitive language, which means that it distinguishes between uppercase and lowercase letters.\n",
    "2. Python uses indentation to indicate blocks of code. This is different from most other programming languages, which use curly braces to indicate blocks of code.\n"
   ]
  },
  {
   "attachments": {},
   "cell_type": "markdown",
   "metadata": {},
   "source": [
    "### Hello World <a id=\"hello-world\"></a>\n",
    "```python\n",
    "print(\"Hello World\")\n",
    "```\n"
   ]
  },
  {
   "cell_type": "code",
   "execution_count": 7,
   "metadata": {},
   "outputs": [
    {
     "name": "stdout",
     "output_type": "stream",
     "text": [
      "hello, world!\n"
     ]
    }
   ],
   "source": [
    "print(\"hello, world!\") # print() function"
   ]
  },
  {
   "attachments": {},
   "cell_type": "markdown",
   "metadata": {},
   "source": [
    "## Python Comments <a id=\"python-comments\"></a>\n",
    "### What are Python Comments? <a id=\"what-are-python-comments\"></a>\n",
    "1. Python comments are lines of code that are not executed by the interpreter.\n",
    "2. Python comments are used to explain what the code is doing.\n",
    "3. Python comments are used to make the code easier to understand.\n",
    "4. Python comments are used to prevent the code from being executed.\n",
    "5. who created the file and when it was created.\n",
    "6. what the file does.\n",
    "7. how to use the file.\n",
    "8. what the file is used for.\n",
    "9. what the file is not used for.\n",
    "```python\n",
    "# this is a comment\n",
    "print(\"Hello World\")\n",
    "```"
   ]
  },
  {
   "attachments": {},
   "cell_type": "markdown",
   "metadata": {},
   "source": [
    "## Python Data Types and Variables <a id=\"python-data-types-and-variables\"></a>"
   ]
  },
  {
   "attachments": {},
   "cell_type": "markdown",
   "metadata": {},
   "source": [
    "### Variables <a id=\"variables\"></a>"
   ]
  },
  {
   "attachments": {},
   "cell_type": "markdown",
   "metadata": {},
   "source": [
    "1. Python has several built-in data types, including integers, floats, strings, lists, tuples, sets, and dictionaries.\n",
    "2. variables are used to store data in memory.\n",
    "3. Data stored in memory can be accessed by using the variable name.\n",
    "4. Variables can be assigned different values at different times.\n",
    "5. varaibles not containing The data its only refer to this data.\n",
    "6. Name of variables must start with a letter or an underscore.\n",
    "7. case sensitive.\n",
    "8. keywords can't be used as variables.\n",
    "9. variables can't start with a number.\n",
    "10. variables can't contain spaces.\n",
    "11. variables can't contain special characters.\n",
    "12. variables can't contain keywords.\n",
    "13. variables can't contain operators.\n",
    "14. variables can't contain built-in functions.\n",
    "15. varaibles name shap can be camelCase, PascalCase, snake_case, kebab-case.\n",
    "variables shape:\n",
    "```python\n",
    "camelCase: myVariableName\n",
    "PascalCase: MyVariableName\n",
    "snake_case: my_variable_name\n",
    "kebab-case: my-variable-name\n",
    "```\n",
    "16. variables syntax:\n",
    "```python\n",
    "variable_name = value\n",
    "```\n",
    "### Keywords <a id=\"keywords\"></a>\n",
    "1. Keywords are reserved words that have special meaning in Python.\n",
    "2. Keywords cannot be used as variable names.\n",
    "keywords:\n",
    "```python\n",
    "False, None, True, and, as, assert, async, await, break, class, continue, def, del, elif, else, except, finally, for, from, global, if, import, in, is, lambda, nonlocal, not, or, pass, raise, return, try, while, with, yield\n",
    "```\n",
    "### Multiple Assignment <a id=\"multiple-assignment\"></a>\n",
    "```python\n",
    "x, y, z = \"Orange\", \"Banana\", \"Cherry\"\n",
    "print(x)\n",
    "print(y)\n",
    "print(z)\n",
    "```\n",
    "### One Value to Multiple Variables <a id=\"one-value-to-multiple-variables\"></a>\n",
    "```python\n",
    "x = y = z = \"Orange\"\n",
    "print(x)\n",
    "print(y)\n",
    "print(z)\n",
    "```\n",
    "### Unpack a Collection <a id=\"unpack-a-collection\"></a>\n",
    "```python\n",
    "fruits = [\"apple\", \"banana\", \"cherry\"]\n",
    "x, y, z = fruits\n",
    "print(x)\n",
    "print(y)\n",
    "print(z)\n",
    "```\n",
    "### Global Variables <a id=\"global-variables\"></a>\n",
    "1. Variables that are created outside of a function are known as global variables.\n",
    "2. Global variables can be used by any function.\n"
   ]
  },
  {
   "cell_type": "code",
   "execution_count": 8,
   "metadata": {},
   "outputs": [
    {
     "name": "stdout",
     "output_type": "stream",
     "text": [
      "Orange\n",
      "Banana\n",
      "Cherry\n"
     ]
    }
   ],
   "source": [
    "x, y, z = \"Orange\", \"Banana\", \"Cherry\" # Multiple variable\n",
    "print(x)\n",
    "print(y)\n",
    "print(z)"
   ]
  },
  {
   "cell_type": "code",
   "execution_count": 9,
   "metadata": {},
   "outputs": [
    {
     "name": "stdout",
     "output_type": "stream",
     "text": [
      "Orange\n",
      "Orange\n",
      "Orange\n"
     ]
    }
   ],
   "source": [
    "x = y = z = \"Orange\" # One value to multiple variable\n",
    "print(x)\n",
    "print(y)\n",
    "print(z)"
   ]
  },
  {
   "cell_type": "code",
   "execution_count": 10,
   "metadata": {},
   "outputs": [
    {
     "name": "stdout",
     "output_type": "stream",
     "text": [
      "apple\n",
      "banana\n",
      "cherry\n"
     ]
    }
   ],
   "source": [
    "fruits = [\"apple\", \"banana\", \"cherry\"] # Unpack a list\n",
    "x, y, z = fruits\n",
    "print(x)\n",
    "print(y)\n",
    "print(z)"
   ]
  },
  {
   "cell_type": "code",
   "execution_count": 11,
   "metadata": {},
   "outputs": [
    {
     "name": "stdout",
     "output_type": "stream",
     "text": [
      "10 <class 'int'>\n",
      "10.5 <class 'float'>\n",
      "Hell0, python!! <class 'str'>\n",
      "[1, 2, 3, 4, 5] <class 'list'>\n",
      "(1, 2, 'three', 4.5) <class 'tuple'>\n",
      "{'One': 1, 'Two': 2} <class 'dict'>\n",
      "True\n",
      "<class 'bool'>\n"
     ]
    }
   ],
   "source": [
    "a = 10 # int\n",
    "print(a, type(a))\n",
    "\n",
    "b = 10.5 # float\n",
    "print(b, type(b))\n",
    "\n",
    "c = \"Hell0, python!!\" # str\n",
    "print(c, type(c))\n",
    "\n",
    "d = [1, 2, 3, 4, 5] # list\n",
    "print(d, type(d))\n",
    "\n",
    "e = (1, 2, 'three', 4.5) # tuble\n",
    "print(e, type(e))\n",
    "\n",
    "f = {\"One\" : 1, \"Two\" : 2} # dict\n",
    "print(f, type(f))\n",
    "print(2 == 2)\n",
    "print(type(2 == 2)) # bool "
   ]
  },
  {
   "attachments": {},
   "cell_type": "markdown",
   "metadata": {},
   "source": [
    "## Escape Characters <a id=\"escape-characters\"></a>\n",
    "1. Escape characters are used to insert special characters into strings.\n",
    "2. Escape characters are preceded by a backslash (\\).\n",
    "3. Escape characters are used to insert newline characters (\\n), tab characters (\\t), and other special characters into strings.\n",
    "4. Escape characters are used to insert single quotes (\\') and double quotes (\\\") into strings.\n",
    "5. Escape characters are used to insert backslashes (\\\\) into strings.\n",
    "6. Escape characters are used to insert carriage returns (\\r) into strings.\n",
    "7. Escape characters are used to insert form feeds (\\f) into strings.\n",
    "8. Escape characters are used to insert vertical tabs (\\v) into strings.\n",
    "9. Escape characters are used to insert hexadecimal characters (\\xhh) into strings.\n",
    "10. Escape characters are used to insert octal characters (\\ooo) into strings.\n",
    "11. Escape characters are used to insert Unicode characters (\\uxxxx) into strings.\n",
    "12. Escape characters are used to insert raw strings (r\"\") into strings.\n",
    "### Escape Characters <a id=\"escape-characters-1\"></a>\n",
    "```python\n",
    "\\'\tSingle Quote\n",
    "\\\\\tBackslash\n",
    "\\n\tNew Line\n",
    "\\t\tTab\n",
    "\\r\tCarriage Return\n",
    "\\f\tForm Feed\n",
    "\\v\tVertical Tab\n",
    "\\xhh\tHexadecimal Value\n",
    "\\ooo\tOctal Value\n",
    "\\uxxxx\tUnicode Value\n",
    "r\"\"\tRaw String\n",
    "```"
   ]
  },
  {
   "cell_type": "code",
   "execution_count": 12,
   "metadata": {},
   "outputs": [
    {
     "name": "stdout",
     "output_type": "stream",
     "text": [
      "We are the so-called \"Vikings\" from the north.\n",
      "Hello\n",
      "World!\n",
      "Hello\tWorld!\n",
      "World!\n",
      "Hello\fWorld!\n",
      "Hello\u000bWorld!\n",
      "Hello\n",
      "Hello\n",
      "Hello\n",
      "Hello\\nWorld!\n"
     ]
    }
   ],
   "source": [
    "txt = \"We are the so-called \\\"Vikings\\\" from the north.\" # Escape character\n",
    "print(txt)\n",
    "\n",
    "txt = \"Hello\\nWorld!\" # New line\n",
    "print(txt)\n",
    "\n",
    "txt = \"Hello\\tWorld!\" # Tab\n",
    "print(txt)\n",
    "\n",
    "txt = \"Hello\\rWorld!\" # Carriage return\n",
    "print(txt)\n",
    "\n",
    "txt = \"Hello\\fWorld!\" # Form feed\n",
    "print(txt)\n",
    "\n",
    "txt = \"Hello\\vWorld!\" # Vertical tab\n",
    "print(txt)\n",
    "\n",
    "txt = \"\\x48\\x65\\x6c\\x6c\\x6f\" # Hexadecimal\n",
    "print(txt)\n",
    "\n",
    "txt = \"\\110\\145\\154\\154\\157\" # Octal value\n",
    "print(txt)\n",
    "\n",
    "txt = \"\\u0048\\u0065\\u006c\\u006c\\u006f\" # Unicode\n",
    "print(txt)\n",
    "\n",
    "txt = r\"Hello\\nWorld!\" # Raw string\n",
    "print(txt)\n"
   ]
  },
  {
   "attachments": {},
   "cell_type": "markdown",
   "metadata": {},
   "source": [
    "## Concatenation <a id=\"concatenation\"></a>\n",
    "1. Concatenation is the process of combining two or more strings into a single string.\n",
    "2. Concatenation is done by using the + operator.\n",
    "3. Concatenation is done by using the += operator. \n",
    "4. concatenation is done by * operator.\n"
   ]
  },
  {
   "cell_type": "code",
   "execution_count": 13,
   "metadata": {},
   "outputs": [
    {
     "name": "stdout",
     "output_type": "stream",
     "text": [
      "HelloWorld\n",
      "HelloWorld\n",
      "Hello World\n",
      "Hello World\n",
      "Hello World!\n",
      "HelloHelloHello\n",
      "HelloHelloHelloWorld\n",
      "HelloHelloHelloWorldWorld\n",
      "HelloHelloHelloWorldWorld!\n"
     ]
    }
   ],
   "source": [
    "txt1 = \"Hello\"\n",
    "txt2 = \"World\"\n",
    "txt3 = txt1 + txt2 # String concatenation\n",
    "print(txt3)\n",
    "\n",
    "txt1 = \"Hello\"\n",
    "txt2 = \"World\"\n",
    "txt1 += txt2   # String concatenation\n",
    "print(txt1)\n",
    "\n",
    "txt1 = \"Hello\"\n",
    "txt2 = \"World\"\n",
    "txt3 = txt1 + \" \" + txt2 # String concatenation\n",
    "print(txt3)\n",
    "\n",
    "txt1 = \"Hello\"\n",
    "txt2 = \"World\"\n",
    "txt1 += \" \" + txt2 # String concatenation\n",
    "print(txt1)\n",
    "\n",
    "txt1 = \"Hello\"\n",
    "txt2 = \"World\"\n",
    "txt3 = txt1 + \" \" + txt2 + \"!\" # String concatenation\n",
    "print(txt3)\n",
    "\n",
    "txt = \"Hello\" * 3 # String multiplication\n",
    "print(txt)\n",
    "\n",
    "txt = \"Hello\" * 3 + \"World\" # String multiplication\n",
    "print(txt)\n",
    "\n",
    "txt = \"Hello\" * 3 + \"World\" * 2 # String multiplication\n",
    "print(txt)\n",
    "\n",
    "txt = \"Hello\" * 3 + \"World\" * 2 + \"!\" # String multiplication\n",
    "print(txt)\n"
   ]
  },
  {
   "attachments": {},
   "cell_type": "markdown",
   "metadata": {},
   "source": [
    "### Quotes <a id=\"quotes\"></a>\n",
    "1. Single quotes ('') are used to enclose strings.\n",
    "2. Double quotes (\"\") are used to enclose strings.\n",
    "3. Triple quotes (''' ''') are used to enclose strings.\n",
    "4. Triple quotes (\"\"\" \"\"\") are used to enclose strings.\n",
    "5. Single quotes ('') can be used inside double quotes (\"\").\n",
    "6. Double quotes (\"\") can be used inside single quotes ('').\n",
    "7. Triple quotes (''' ''') can be used inside double quotes (\"\").\n",
    "8. Triple quotes (\"\"\" \"\"\") can be used inside single quotes ('').\n",
    "9. Single quotes ('') can be used inside triple quotes (''' ''').\n",
    "10. Double quotes (\"\") can be used inside triple quotes (''' ''').\n",
    "11. Triple quotes (''' ''') can be used inside triple quotes (''' ''').\n",
    "12. Triple quotes (\"\"\" \"\"\") can be used inside triple quotes (''' ''').\n"
   ]
  },
  {
   "cell_type": "code",
   "execution_count": 14,
   "metadata": {},
   "outputs": [
    {
     "name": "stdout",
     "output_type": "stream",
     "text": [
      "Hello\n",
      "Hello\n",
      "Hello\n",
      "Hello\n",
      "Hello 'World'\n",
      "Hello \"World\"\n",
      "\n",
      "hello, world!\n",
      "\n",
      "\n",
      "hello, world!\n",
      "\n"
     ]
    }
   ],
   "source": [
    "\n",
    "txt = 'Hello'\n",
    "print(txt)\n",
    "\n",
    "txt = \"Hello\"\n",
    "print(txt)\n",
    "\n",
    "txt = '''Hello'''\n",
    "print(txt)\n",
    "\n",
    "txt = \"\"\"Hello\"\"\"\n",
    "print(txt)\n",
    "\n",
    "txt = \"Hello 'World'\"\n",
    "print(txt)\n",
    "\n",
    "txt = 'Hello \"World\"'\n",
    "print(txt)\n",
    "\n",
    "txt = '''\n",
    "hello, world!\n",
    "'''\n",
    "print(txt)\n",
    "\n",
    "txt = \"\"\"\n",
    "hello, world!\n",
    "\"\"\"\n",
    "print(txt)\n"
   ]
  },
  {
   "attachments": {},
   "cell_type": "markdown",
   "metadata": {},
   "source": [
    "## Indexing and Slicing <a id=\"indexing-and-slicing\"></a>\n",
    "1. Indexing is the process of accessing individual characters in a string.\n",
    "2. Indexing is done by using square brackets ([]).\n",
    "3. Indexing starts at 0.\n",
    "4. Indexing ends at -1.\n",
    "5. Slicing is the process of accessing a range of characters in a string.  \n",
    "6. Slicing is done by using square brackets ([]).\n",
    "7. Slicing starts at 0.\n",
    "8. Slicing ends at -1.\n",
    "9. Slicing can be done by using a colon (:).\n",
    "10. Slicing can be done by using a colon (:) and a step value.\n",
    "11. Slicing can be done by using a colon (:) and a negative step value.\n",
    "12. end index is not included in the slice.\n",
    "13. start index is included in the slice.\n",
    "14. step value is the number of characters to skip.\n",
    "15. step value can be positive or negative.\n",
    "16. step value can be any integer.\n",
    "17. step value can be any float.\n",
    "18. step value can be any fraction.\n"
   ]
  },
  {
   "cell_type": "code",
   "execution_count": 15,
   "metadata": {},
   "outputs": [
    {
     "name": "stdout",
     "output_type": "stream",
     "text": [
      "H\n",
      "e\n",
      "l\n",
      "l\n",
      "o\n",
      ",\n",
      " \n",
      "W\n",
      "o\n",
      "r\n",
      "l\n",
      "d\n",
      "!\n",
      "-----------------\n",
      "!\n",
      "d\n",
      "-----------------\n",
      "Hello\n",
      "World\n",
      "World!\n",
      "Hello\n",
      "orld\n",
      "orld!\n",
      "Hello, World\n",
      "Hello, World!\n",
      "-----------------\n",
      "Hlo ol\n",
      "Hl r\n",
      "Hlo ol!\n",
      "Hl r!\n",
      "!dlroW ,olleH\n",
      "!lo olH\n",
      "!r lH\n",
      "!ooH\n",
      "-----------------\n"
     ]
    }
   ],
   "source": [
    "# string indexing\n",
    "txt = \"Hello, World!\"\n",
    "print(txt[0])\n",
    "print(txt[1])\n",
    "print(txt[2])\n",
    "print(txt[3])\n",
    "print(txt[4])\n",
    "print(txt[5])\n",
    "print(txt[6])\n",
    "print(txt[7])\n",
    "print(txt[8])\n",
    "print(txt[9])\n",
    "print(txt[10])\n",
    "print(txt[11])\n",
    "print(txt[12])\n",
    "print(\"-----------------\")\n",
    "# index from the end of the string\n",
    "print(txt[-1])\n",
    "print(txt[-2])\n",
    "print(\"-----------------\")\n",
    "# string slicing\n",
    "txt = \"Hello, World!\"\n",
    "print(txt[0:5])\n",
    "print(txt[7:12])\n",
    "print(txt[7:]) # from 7 to the end\n",
    "print(txt[:5]) # from the beginning to 5\n",
    "print(txt[-5:-1])\n",
    "print(txt[-5:]) # from -5 to the end\n",
    "print(txt[:-1]) # from the beginning to -1\n",
    "print(txt[:]) # from the beginning to the end\n",
    "print(\"-----------------\")\n",
    "print(txt[0:12:2]) # from 0 to 12, step 2\n",
    "print(txt[0:12:3]) # from 0 to 12, step 3\n",
    "print(txt[::2]) # from the beginning to the end, step 2\n",
    "print(txt[::3]) # from the beginning to the end, step 3\n",
    "print(txt[::-1]) # reverse string\n",
    "print(txt[::-2]) # reverse string, step 2\n",
    "print(txt[::-3]) # reverse string, step 3\n",
    "print(txt[::-4]) # reverse string, step 4\n",
    "print(\"-----------------\")"
   ]
  },
  {
   "attachments": {},
   "cell_type": "markdown",
   "metadata": {},
   "source": [
    "## String Length <a id=\"string-length\"></a>\n",
    "1. The len() function returns the length of a string.\n",
    "2. The len() function returns the number of characters in a string.\n",
    "3. The len() function returns the number of characters in a string, including spaces, punctuation, special characters, escape characters, Unicode characters, emojis, other characters, invisible characters, control characters, non-printable characters, non-ASCII characters, non-English characters, and non-Latin characters."
   ]
  },
  {
   "cell_type": "code",
   "execution_count": 16,
   "metadata": {},
   "outputs": [
    {
     "name": "stdout",
     "output_type": "stream",
     "text": [
      "13\n"
     ]
    }
   ],
   "source": [
    "# string length\n",
    "txt = \"Hello, World!\"\n",
    "print(len(txt))\n"
   ]
  },
  {
   "attachments": {},
   "cell_type": "markdown",
   "metadata": {},
   "source": [
    "## String Methods <a id=\"string-methods\"></a>\n",
    "1. string methods are used to perform operations on strings.\n",
    "2. string methods are called by using the dot operator (.), the method name, parentheses (), parameters, and arguments.\n",
    "### String Methods <a id=\"string-methods-1\"></a>\n",
    "```python\n",
    "count()\tReturns the number of times a specified value occurs in a string\n",
    "strip()\tReturns a trimmed version of the string\n",
    "rstrip()\tReturns a right trim version of the string\n",
    "lstrip()\tReturns a left trim version of the string\n",
    "title()\tConverts the first character of each word to upper case\n",
    "capitalize()\tConverts the first character of the string to upper case\n",
    "zfill()\tFills the string with a specified number of 0 values at the beginning\n",
    "# difference between title() and capitalize() is title() convert the first character of each word to upper case and capitalize() convert the first character of the string to upper case. \n",
    "upper()\tConverts a string to upper case\n",
    "lower()\tConverts a string to lower case\n",
    "split()\tSplits the string at the specified separator, and returns a list\n",
    "rsplit()\tSplits the string at the specified separator, starting from the right, and returns a list\n",
    "splitlines()\tSplits the string at line breaks and returns a list\n",
    "center()\tReturns a centered string\n",
    "swapcase()\tSwaps cases, lower case becomes upper case and vice versa\n",
    "startswith()\tReturns true if the string starts with the specified value\n",
    "endswith()\tReturns true if the string ends with the specified value\n",
    "index()\tSearches the string for a specified value and returns the position of where it was found\n",
    "find()\tSearches the string for a specified value and returns the position of where it was found\n",
    "#difference between index() and find() is index() raise an exception if the value is not found and find() return -1 if the value is not found.\n",
    "rjust()\tReturns a right justified version of the string\n",
    "ljust()\tReturns a left justified version of the string\n",
    "expandtabs()\tSets the tab size of the string\n",
    "istitle()\tReturns true if the string follows the rules of a title\n",
    "isupper()\tReturns true if all characters in the string are upper case\n",
    "islower()\tReturns true if all characters in the string are lower case\n",
    "isnumeric()\tReturns true if all characters in the string are numeric\n",
    "isdecimal()\tReturns true if all characters in the string are decimals\n",
    "isdigit()\tReturns true if all characters in the string are digits\n",
    "isalpha()\tReturns true if all characters in the string are in the alphabet\n",
    "isalnum()\tReturns true if all characters in the string are alphanumeric\n",
    "isspace()\tReturns true if all characters in the string are whitespaces\n",
    "# difference between isalpha() and isalnum() is isalpha() return true if all characters in the string are in the alphabet and isalnum() return true if all characters in the string are alphanumeric.\n",
    "replace()\tReturns a string where a specified value is replaced with a specified value\n",
    "join()\tJoins the elements of an iterable to the end of the string\n"
   ]
  },
  {
   "cell_type": "code",
   "execution_count": 17,
   "metadata": {},
   "outputs": [
    {
     "name": "stdout",
     "output_type": "stream",
     "text": [
      "Hello, World!\n",
      "Hello, World!    \n",
      "    Hello, World!\n",
      "-----------------\n",
      "Hello, World\n",
      "Hello, World!!!!\n",
      "!!!!Hello, World\n",
      "-----------------\n",
      "Hello, World!\n",
      "-----------------\n",
      "Hello, world!\n",
      "-----------------\n",
      "0000000050\n",
      "00050\n",
      "50\n",
      "-----------------\n",
      "HELLO, WORLD!\n",
      "hello, world!\n",
      "-----------------\n",
      "['Hello,', 'World', 'and', 'hello,', 'python!']\n",
      "['Hello', ' World and hello', ' python!']\n",
      "['Hello', ' World and hello', ' python!']\n",
      "['Hello,', 'World', 'and', 'hello,', 'python!']\n",
      "['Hello', ' World and hello', ' python!']\n",
      "['', 'Hello, World!', 'Hello, Python!']\n",
      "-----------------\n",
      "   Hello, World!    \n",
      "---Hello, World!----\n",
      "-----------------\n",
      "3\n",
      "2\n",
      "-----------------\n",
      "hELLO, wORLD!\n",
      "-----------------\n",
      "True\n",
      "False\n",
      "False\n",
      "False\n",
      "False\n",
      "True\n",
      "-----------------\n",
      "2\n",
      "2\n",
      "-----------------\n",
      "2\n",
      "2\n",
      "-1\n",
      "-----------------\n",
      "       Hello, World!\n",
      "-------Hello, World!\n",
      "-----------------\n",
      "Hello, World!       \n",
      "Hello, World!-------\n",
      "-----------------\n",
      "H\te\tl\tl\to\n",
      "H       e       l       l       o\n",
      "H e l l o\n",
      "H   e   l   l   o\n",
      "H       e       l       l       o\n",
      "-----------------\n",
      "True\n",
      "False\n",
      "False\n",
      "False\n",
      "False\n",
      "False\n",
      "False\n",
      "False\n",
      "False\n",
      "False\n",
      "-----------------\n",
      "Hello, Python!\n",
      "Hello, Python!\n",
      "Hexxo, Worxd!\n",
      "Hexxo, World!\n",
      "-----------------\n",
      "John Peter Vicky\n",
      "John, Peter, Vicky\n",
      "-----------------\n"
     ]
    }
   ],
   "source": [
    "# string methods\n",
    "txt = \"    Hello, World!    \"\n",
    "print(txt.strip()) # remove whitespace from the beginning or the end\n",
    "print(txt.lstrip()) # remove whitespace from the beginning\n",
    "print(txt.rstrip()) # remove whitespace from the end\n",
    "print(\"-----------------\")\n",
    "txt = \"!!!!Hello, World!!!!\"\n",
    "print(txt.strip(\"!\")) # remove \"!\" from the beginning or the end\n",
    "print(txt.lstrip(\"!\")) # remove \"!\" from the beginning\n",
    "print(txt.rstrip(\"!\")) # remove \"!\" from the end\n",
    "print(\"-----------------\")\n",
    "txt = \"hello, world!\"\n",
    "print(txt.title()) # make the first letter in each word upper case\n",
    "print(\"-----------------\")\n",
    "print(txt.capitalize()) # make the first letter in the first word upper case\n",
    "print(\"-----------------\")\n",
    "#zfill() method adds zeros (0) at the beginning of the string, until it reaches the specified length\n",
    "txt = \"50\"\n",
    "print(txt.zfill(10))\n",
    "print(txt.zfill(5))\n",
    "print(txt.zfill(2))\n",
    "print(\"-----------------\")\n",
    "txt = \"Hello, World!\"\n",
    "print(txt.upper()) # make all letters upper case\n",
    "print(txt.lower()) # make all letters lower case\n",
    "print(\"-----------------\")\n",
    "txt = \"Hello, World and hello, python!\"\n",
    "print(txt.split()) # split a string into a list\n",
    "print(txt.split(\",\")) # split a string into a list\n",
    "print(txt.split(\",\", 2)) # split a string into a list max 2\n",
    "print(txt.rsplit()) # split a string into a list\n",
    "print(txt.rsplit(\",\")) # split a string into a list\n",
    "txt = \"\"\"\n",
    "Hello, World!\n",
    "Hello, Python!\n",
    "\"\"\"\n",
    "print(txt.splitlines()) # split a string into a list\n",
    "print(\"-----------------\")\n",
    "txt = \"Hello, World!\"\n",
    "print(txt.center(20)) # center a string with space\n",
    "print(txt.center(20, \"-\")) # center a string with \"-\"\n",
    "print(\"-----------------\")\n",
    "print(txt.count(\"l\")) # count the number of \"l\" in the string\n",
    "print(txt.count(\"l\", 0, 5)) # count the number of \"l\" in the string from 0 to 5\n",
    "print(\"-----------------\")\n",
    "print(txt.swapcase()) # swap upper case to lower case and lower case to upper case\n",
    "print(\"-----------------\")\n",
    "print(txt.startswith(\"Hello\")) # check if the string starts with \"Hello\"\n",
    "print(txt.startswith(\"World\")) # check if the string starts with \"World\"\n",
    "print(txt.endswith(\"World\")) # check if the string ends with \"World\"\n",
    "print(txt.endswith(\"Hello\")) # check if the string ends with \"Hello\"\n",
    "print(txt.endswith(\"!\", 1, 3)) # check if the string ends with \"!\" from 1 to 3\n",
    "print(txt.endswith(\"!\", 8, 13)) # check if the string ends with \"!\" from 8 to 13\n",
    "print(\"-----------------\")\n",
    "print(txt.index(\"l\")) # find the first occurrence of \"l\"\n",
    "print(txt.index(\"l\", 0, 5)) # find the first occurrence of \"l\" from 0 to 5\n",
    "#print(txt.index(\"x\")) # find the first occurrence of \"x\"\n",
    "print(\"-----------------\")\n",
    "#find() method finds the first occurrence of the specified value\n",
    "print(txt.find(\"l\")) # find the first occurrence of \"l\"\n",
    "print(txt.find(\"l\", 0, 5)) # find the first occurrence of \"l\" from 0 to 5\n",
    "print(txt.find(\"x\")) # find the first occurrence of \"x\"\n",
    "print(\"-----------------\")\n",
    "print(txt.rjust(20)) # right align the string with space\n",
    "print(txt.rjust(20, \"-\")) # right align the string with \"-\"\n",
    "print(\"-----------------\")\n",
    "print(txt.ljust(20)) # left align the string with space\n",
    "print(txt.ljust(20, \"-\")) # left align the string with \"-\"\n",
    "print(\"-----------------\")\n",
    "txt = \"H\\te\\tl\\tl\\to\"\n",
    "print(txt) # default tab size is 8\n",
    "print(txt.expandtabs()) # default tab size is 8\n",
    "print(txt.expandtabs(2)) # tab size is 2\n",
    "print(txt.expandtabs(4)) # tab size is 4\n",
    "print(txt.expandtabs(8)) # tab size is 8\n",
    "print(\"-----------------\")\n",
    "txt = \"Hello, World!\"\n",
    "print(txt.istitle()) # check if the string is title\n",
    "print(txt.isupper()) # check if the string is upper\n",
    "print(txt.islower()) # check if the string is lower\n",
    "print(txt.isspace()) # check if the string is space\n",
    "print(txt.isalpha()) # check if the string is alpha\n",
    "print(txt.isalnum()) # check if the string is alpha or number\n",
    "print(txt.isdigit()) # check if the string is number\n",
    "print(txt.isdecimal()) # check if the string is decimal\n",
    "print(txt.isnumeric()) # check if the string is numeric\n",
    "print(txt.isidentifier()) # check if the string is identifier\n",
    "print(\"-----------------\")\n",
    "txt = \"Hello, World!\"\n",
    "print(txt.replace(\"World\", \"Python\")) # replace \"World\" with \"Python\"\n",
    "print(txt.replace(\"World\", \"Python\", 1)) # replace \"World\" with \"Python\" max 1\n",
    "print(txt.replace(\"l\", \"x\")) # replace \"l\" with \"x\"\n",
    "print(txt.replace(\"l\", \"x\", 2)) # replace \"l\" with \"x\" max 2\n",
    "print(\"-----------------\")\n",
    "myTuple = (\"John\", \"Peter\", \"Vicky\")\n",
    "print(\" \".join(myTuple)) # join a tuple into a string\n",
    "print(\" \".join(myTuple).replace(\" \", \", \")) # join a tuple into a string and replace \" \" with \", \"\n",
    "print(\"-----------------\")"
   ]
  },
  {
   "attachments": {},
   "cell_type": "markdown",
   "metadata": {},
   "source": [
    "## Strings Formatting <a id=\"strings-formatting\"></a>"
   ]
  },
  {
   "attachments": {},
   "cell_type": "markdown",
   "metadata": {},
   "source": [
    "### Strings Formatting By using placeholders <a id=\"strings-formatting-by-using-placeholders\"></a>"
   ]
  },
  {
   "attachments": {},
   "cell_type": "markdown",
   "metadata": {},
   "source": [
    "1. String format is used to format strings.\n",
    "2. placeholders are used to insert values into strings.\n",
    "3. its solved by using % operator.\n",
    "4. several placeholders can be used in a single string.\n",
    "5. solve concatenation problem.\n",
    "6. % can be any data type like string, integer, float, boolean, list, tuple, set, dictionary.\n",
    "7. control the number of decimal places in a float by using %f and %.<number of decimal places>f placeholders.\n",
    "8. Truncate a float by using %.<number of decimal places>f placeholders.\n",
    "9. Truncate strings by using %.<number of characters>s placeholders.\n",
    "    "
   ]
  },
  {
   "cell_type": "code",
   "execution_count": 18,
   "metadata": {},
   "outputs": [
    {
     "name": "stdout",
     "output_type": "stream",
     "text": [
      "My name is John and I am 36.\n",
      "I have 3 apples and the price is 10.50 dollars.\n",
      "I have 3 apples and the price is 31.50 dollars.\n",
      "-----------------\n",
      "Hello\n",
      "Hello...\n",
      "Hello...!\n",
      "Hello...!!\n",
      "Hello...!!!\n",
      "Hello...!!!!!\n",
      "Hello...!!!!!!!!!!\n",
      "Hello...!!!!!!!!!!!!!!!!!!!!!!!!!!!!!!!!!!!!!!!!!!!!!!!!!!!!!!!!!!!!!!!!!!!!!!!!!!!!!!!!!!!!!!!!!!!!!!!!!!!!\n",
      "This is welcome message from the system. Hello...!!!!!!!!!!!!!!!!!!!!!!!!!!!!!!!!!!!!!!!!!!!!!!!!!!!!!!!!!!!!!!!!!!!!!!!!!!!!!!!!!!!!!!!!!!!!!!!!!!!!\n",
      "This is welcome message from the system Hello\n"
     ]
    }
   ],
   "source": [
    "# Examples \n",
    "name = \"John\"\n",
    "age = 36\n",
    "#print(\"My name is \" + name + \".\", \"and I am \" + age) \n",
    "# TypeError: can only concatenate str (not \"int\") to str\n",
    "print(\"My name is %s and I am %d.\" % (name, age)) # %s - string, %d - integer \n",
    "product = \"apple\"\n",
    "price = 10.5\n",
    "quantity = 3\n",
    "#print(\"I have \" + quantity + \" \" + product + \"s and the price is \" + price + \" dollars.\")\n",
    "# TypeError: can only concatenate str (not \"int\") to str\n",
    "print(\"I have %d %ss and the price is %.2f dollars.\" % (quantity, product, price)) # %f - float, %.2f - float with 2 decimal places\n",
    "print(\"I have %d %ss and the price is %.2f dollars.\" % (quantity, product, price * quantity)) # %f - float, %.2f - float with 2 decimal places\n",
    "print(\"-----------------\")\n",
    "#Truncate Strings\n",
    "txt = \"Hello World!\"\n",
    "print(txt[0:5]) # truncate string\n",
    "print(txt[0:5] + \"...\") # truncate string\n",
    "print(txt[0:5] + \"...\" + txt[-1]) # truncate string\n",
    "print(txt[0:5] + \"...\" + txt[-1] + txt[-1]) # truncate string\n",
    "print(txt[0:5] + \"...\" + txt[-1] * 3) # truncate string\n",
    "print(txt[0:5] + \"...\" + txt[-1] * 5) # truncate string\n",
    "print(txt[0:5] + \"...\" + txt[-1] * 10) # truncate string\n",
    "print(txt[0:5] + \"...\" + txt[-1] * 100) # truncate string\n",
    "print(\"This is welcome message from the system. \" + txt[0:5] + \"...\" + txt[-1] * 100) # truncate string\n",
    "print(\"This is welcome message from the system %.5s\" % txt) # truncate string with %s - string and %.5s - string with 5 characters "
   ]
  },
  {
   "attachments": {},
   "cell_type": "markdown",
   "metadata": {},
   "source": [
    "### Strings Formatting By using format() method <a id=\"strings-formatting-by-using-format-method\"></a>"
   ]
  },
  {
   "attachments": {},
   "cell_type": "markdown",
   "metadata": {},
   "source": [
    "1. String format is used to format strings.\n",
    "2. .FORMAT() method is used to format strings.\n",
    "3. {} are used as placeholders.\n",
    "4. {:} are used as placeholders with format specifiers inside them to control the formatting of the output string (like number of decimal places, number of characters, etc.).\n",
    "5. CONTROL THE NUMBER OF DECIMAL PLACES IN A FLOAT BY USING {:.<number of decimal places>f} PLACEHOLDERS.\n",
    "6. CONTROL STRING ALIGNMENT BY USING {:<number of characters}s} AND {:>number of characters}s} PLACEHOLDERS.\n",
    "7. CONTROL THE NUMBER OF CHARACTERS IN A STRING BY USING {:.<number of characters>s} PLACEHOLDERS. \n",
    "8. TRUNCATE A FLOAT BY USING {:.<number of decimal places>f} PLACEHOLDERS.\n",
    "9. TRUNCATE STRINGS BY USING {:.<number of characters>s} PLACEHOLDERS.\n",
    "10. Rearrange items in a string by using {<index number>} placeholders.\n",
    "11. f strings are used to format strings.\n",
    "12. f strings are used to insert values into strings.\n",
    "13. f strings are used to insert variables into strings.\n",
    "14. f strings are used to insert expressions into strings.\n"
   ]
  },
  {
   "cell_type": "code",
   "execution_count": 19,
   "metadata": {},
   "outputs": [
    {
     "name": "stdout",
     "output_type": "stream",
     "text": [
      "My name is: John\n",
      "My name is: John and I am 36.\n",
      "My name is: John and I am 36.\n",
      "My name is: John and I am 36.\n",
      "I have 3 apples and the price is 10.50 dollars.\n",
      "I have 3 apples and the price is 31.50 dollars.\n",
      "This is welcome message from the system Hello, world!.This is welcome message from the system. .\n",
      "This is welcome message from the system Hello, world!.\n",
      "I have 1000000 dollars.\n",
      "I have 1_000_000 dollars.\n",
      "I have 1,000,000 dollars.\n",
      "One: 1, Two: 2, Three: 3.\n",
      "One: 3, Two: 2, Three: 1.\n",
      "One: 1, Two: 2, Three: 3.\n",
      "One: 1, Two: 2, Three: 3.\n",
      "One: 1.000000, Two: 2.000000, Three: 3.000000.\n",
      "One: 1.00, Two: 2.00, Three: 3.00.\n",
      "hello world\n",
      "Hello World\n",
      "HELLO WORLD\n",
      "hello world\n",
      "Hello World\n",
      "HELLO WORLD\n",
      "hexxo worxd\n",
      "hexlo worxd\n"
     ]
    }
   ],
   "source": [
    "name = \"John\"\n",
    "age = 36\n",
    "print(\"My name is: {}\" .format(name)) # {} - placeholder\n",
    "print(\"My name is: {} and I am {}.\" .format(name, age)) # {} - placeholder\n",
    "print(\"My name is: {1} and I am {0}.\" .format(age, name)) # {} - placeholder with index number \n",
    "print(\"My name is: {:s} and I am {:d}.\" .format(name, age)) # {} - placeholder with type \n",
    "product = \"apple\"\n",
    "price = 10.5\n",
    "quantity = 3\n",
    "print(\"I have {:d} {:s}s and the price is {:.2f} dollars.\" .format(quantity, product, price)) # {} - placeholder with type and decimal places \n",
    "print(\"I have {:d} {:s}s and the price is {:.2f} dollars.\" .format(quantity, product, price * quantity)) # {} - placeholder with type and decimal places\n",
    "#---------------------------------------------------------------------------------------------------------------------------------------------------\n",
    "WELCOME = \"Hello, world!.This is welcome message from the system. \"\n",
    "print(\"This is welcome message from the system {}.\".format(WELCOME)) # {} - placeholder\n",
    "print(\"This is welcome message from the system {:.13s}.\".format(WELCOME)) # {} - placeholder with decimal places \n",
    "Money = 1000000 \n",
    "print(\"I have {:d} dollars.\".format(Money)) # {} - placeholder with type\n",
    "print(\"I have {:_d} dollars.\".format(Money)) # {} - placeholder with type and underscore\n",
    "print(\"I have {:,d} dollars.\".format(Money).replace(\"_\", \",\")) # {} - placeholder with type and comma\n",
    "one, two, three = 1, 2, 3\n",
    "print(\"One: {:d}, Two: {:d}, Three: {:d}.\".format(one, two, three)) # {} - placeholder with type\n",
    "print(\"One: {2}, Two: {1}, Three: {0}.\".format(one, two, three)) # {} - placeholder with index number \n",
    "print(\"One: {0}, Two: {1}, Three: {2}.\".format(one, two, three)) # {} - placeholder with index number\n",
    "print(\"One: {0:d}, Two: {1:d}, Three: {2:d}.\".format(one, two, three)) # {} - placeholder with type and index number \n",
    "print(\"One: {0:f}, Two: {1:f}, Three: {2:f}.\".format(one, two, three)) # {} - placeholder with type and index number \n",
    "print(\"One: {0:.2f}, Two: {1:.2f}, Three: {2:.2f}.\".format(one, two, three)) # {} - placeholder with type and index number\n",
    "\n",
    "hello = \"hello\"\n",
    "world = \"world\"\n",
    "print(f\"{hello} {world}\") # f-string \n",
    "print(f\"{hello.capitalize()} {world.capitalize()}\") # f-string \n",
    "print(f\"{hello.upper()} {world.upper()}\") # f-string\n",
    "print(f\"{hello.lower()} {world.lower()}\") # f-string\n",
    "print(f\"{hello.title()} {world.title()}\") # f-string\n",
    "print(f\"{hello.swapcase()} {world.swapcase()}\") # f-string\n",
    "print(f\"{hello.replace('l', 'x')} {world.replace('l', 'x')}\") # f-string\n",
    "print(f\"{hello.replace('l', 'x', 1)} {world.replace('l', 'x', 1)}\") # f-string"
   ]
  },
  {
   "attachments": {},
   "cell_type": "markdown",
   "metadata": {},
   "source": [
    "## Numbers <a id=\"numbers\"></a>"
   ]
  },
  {
   "attachments": {},
   "cell_type": "markdown",
   "metadata": {},
   "source": [
    "1. Numbers are used to represent quantities.\n",
    "2. Integers are whole numbers.\n",
    "3. Floats are numbers with decimal points.\n",
    "4. Complex numbers are numbers with real and imaginary parts.\n",
    "5. you can convert numbers from one type to another by using int(), float(), and complex() functions.\n",
    "6. complex can not be converted to int or float.\n"
   ]
  },
  {
   "cell_type": "code",
   "execution_count": 20,
   "metadata": {},
   "outputs": [
    {
     "name": "stdout",
     "output_type": "stream",
     "text": [
      "<class 'int'>\n",
      "<class 'float'>\n",
      "<class 'complex'>\n",
      "The Real part of z is:5.0\n",
      "The Imaginary part of z is:2.0\n",
      "The Conjugate part of z is:(5-2j)\n",
      "10.0\n",
      "10\n",
      "(10+0j)\n"
     ]
    }
   ],
   "source": [
    "x = 10 \n",
    "y = 20.5\n",
    "z = 5+2j\n",
    "print(type(x))\n",
    "print(type(y))\n",
    "print(type(z))\n",
    "print(\"The Real part of z is:{}\" .format(z.real))\n",
    "print(\"The Imaginary part of z is:{}\" .format(z.imag))\n",
    "print(\"The Conjugate part of z is:{}\" .format(z.conjugate()))\n",
    "A = 10\n",
    "print(float(A))\n",
    "B = 10.5\n",
    "print(int(B))\n",
    "C = 10\n",
    "print(complex(C))\n",
    "\n"
   ]
  },
  {
   "attachments": {},
   "cell_type": "markdown",
   "metadata": {},
   "source": [
    "### Arithmetic Operators <a id=\"arithmetic-operators\"></a>"
   ]
  },
  {
   "attachments": {},
   "cell_type": "markdown",
   "metadata": {},
   "source": [
    "1. Arithmetic operators are used to perform mathematical operations.\n",
    "2. Addition (+) is used to add two numbers.\n",
    "3. Multiplication (*) is used to multiply two numbers.\n",
    "4. Division (/) is used to divide two numbers.\n",
    "5. power (**) is used to raise a number to a power.\n",
    "6. // is used to divide two numbers and return the integer part of the quotient.\n",
    "7. % is used to divide two numbers and return the remainder of the division.\n",
    "8. subtraction (-) is used to subtract two numbers."
   ]
  },
  {
   "cell_type": "code",
   "execution_count": 21,
   "metadata": {},
   "outputs": [
    {
     "name": "stdout",
     "output_type": "stream",
     "text": [
      "13\n",
      "7\n",
      "30\n",
      "3.3333333333333335\n",
      "1\n",
      "1000\n",
      "3\n"
     ]
    }
   ],
   "source": [
    "#Arithmetic Operators\n",
    "x = 10\n",
    "y = 3\n",
    "print(x + y) # Addition\n",
    "print(x - y) # Subtraction\n",
    "print(x * y) # Multiplication\n",
    "print(x / y) # Division\n",
    "print(x % y) # Modulus\n",
    "print(x ** y) # Exponentiation\n",
    "print(x // y) # Floor division\n"
   ]
  },
  {
   "attachments": {},
   "cell_type": "markdown",
   "metadata": {},
   "source": [
    "## Data Structures <a id=\"data-structures\"></a>"
   ]
  },
  {
   "attachments": {},
   "cell_type": "markdown",
   "metadata": {},
   "source": [
    "1. Data structures are used to store data.\n",
    "2. lists are used to store multiple items in a single variable.\n",
    "3. Tuples are used to store multiple items in a single variable.\n",
    "4. sets are used to store multiple items in a single variable.\n",
    "5. Dictionaries are used to store multiple items in a single variable."
   ]
  },
  {
   "attachments": {},
   "cell_type": "markdown",
   "metadata": {},
   "source": [
    "### Lists <a id=\"lists\"></a>\n",
    "1. lists are used to store multiple items in a single variable.\n",
    "2. list items are ordered, changeable, and allow duplicate values.\n",
    "3. list syntax: list_name = [item1, item2, item3]\n",
    "4. list Access Items: list_name[index number]\n",
    "5. list Are Mutable: list_name[index number] = new value\n",
    "6. Its not unique: list_name = [item1, item2, item3, item1, item2, item3]\n",
    "7. can have different data types: list_name = [item1, item2, item3, 4, 5.5, True]"
   ]
  },
  {
   "cell_type": "code",
   "execution_count": 22,
   "metadata": {},
   "outputs": [
    {
     "name": "stdout",
     "output_type": "stream",
     "text": [
      "['apple', 'banana', 'cherry', 'orange', 'kiwi', 'melon', 'mango', True, 10, 10.5, (1+2j)]\n",
      "apple\n",
      "banana\n",
      "cherry\n",
      "(1+2j)\n",
      "10.5\n",
      "10\n",
      "['apple', 'banana']\n",
      "['apple', 'banana', 'cherry', 'orange', 'kiwi', 'melon', 'mango', True, 10, 10.5, (1+2j)]\n",
      "['apple', 'banana']\n",
      "[10.5]\n",
      "[10.5, (1+2j)]\n",
      "['apple', 'banana', 'cherry', 'orange', 'kiwi', 'melon', 'mango', True, 10, 10.5]\n",
      "['apple', 'banana', 'cherry', 'orange', 'kiwi', 'melon', 'mango', True, 10, 10.5, (1+2j)]\n",
      "['apple', 'cherry', 'kiwi', 'mango', 10, (1+2j)]\n",
      "['apple', 'orange', 'mango', 10.5]\n",
      "['apple', 'cherry', 'kiwi', 'mango', 10, (1+2j)]\n",
      "['apple', 'orange', 'mango', 10.5]\n",
      "[(1+2j), 10.5, 10, True, 'mango', 'melon', 'kiwi', 'orange', 'cherry', 'banana', 'apple']\n",
      "[(1+2j), 10, 'mango', 'kiwi', 'cherry', 'apple']\n",
      "[(1+2j), True, 'kiwi', 'banana']\n",
      "[(1+2j), 'mango', 'cherry']\n",
      "[]\n",
      "11\n",
      "<class 'list'>\n",
      "10 <class 'int'>\n",
      "10.5 <class 'float'>\n",
      "['apple', 'banana', 'cherry', 'orange', 'kiwi', 'melon', 'mango', True, 10, 10.5, (1+2j)]\n",
      "['apple', 'banana', 'cherry', 'orange', 'kiwi', 'melon', 'mango', False, 10, 10.5, (1+2j)]\n",
      "['strawberry', 'raspberry', 'cherry', 'orange', 'kiwi', 'melon', 'mango', False, 10, 10.5, (1+2j)]\n"
     ]
    }
   ],
   "source": [
    "# list\n",
    "myList = [\"apple\", \"banana\", \"cherry\", \"orange\", \"kiwi\", \"melon\", \"mango\" ,True, 10, 10.5 , 1+2j] # list can contain different data types\n",
    "print(myList) # print list\n",
    "print(myList[0]) # print first item\n",
    "print(myList[1]) # print second item\n",
    "print(myList[2]) # print third item\n",
    "print(myList[-1]) # print last item\n",
    "print(myList[-2]) # print second last item\n",
    "print(myList[-3]) # print third last item\n",
    "print(myList[0:2]) # print first and second item\n",
    "print(myList[0:]) # print all items\n",
    "print(myList[:2]) # print first and second item\n",
    "print(myList[-2:-1]) # print second last item\n",
    "print(myList[-2:]) # print second last and last item\n",
    "print(myList[:-1]) # print all items except last item\n",
    "print(myList[:]) # print all items\n",
    "print(myList[0:11:2]) # print first to last item, step 2\n",
    "print(myList[0:11:3]) # print first to last item, step 3\n",
    "print(myList[::2]) # print all items, step 2\n",
    "print(myList[::3]) # print all items, step 3\n",
    "print(myList[::-1]) # print all items in reverse order\n",
    "print(myList[::-2]) # print all items in reverse order, step 2\n",
    "print(myList[::-3]) # print all items in reverse order, step 3\n",
    "print(myList[::-4]) # print all items in reverse order, step 4\n",
    "print(myList[0:11:-1]) # print all items in reverse order\n",
    "print(len(myList)) # print length of list\n",
    "print(type(myList)) # print type of list\n",
    "print(myList[8], type(myList[8])) # print first item and type of first item\n",
    "print(myList[9], type(myList[9])) # print second item and type of second item\n",
    "print(myList)\n",
    "myList[-4] = False # change last item\n",
    "print(myList)\n",
    "myList[0:2] = [\"strawberry\", \"raspberry\"] # change first and second item\n",
    "print(myList)"
   ]
  },
  {
   "attachments": {},
   "cell_type": "markdown",
   "metadata": {},
   "source": [
    "#### List methods <a id=\"list-methods\"></a>"
   ]
  },
  {
   "attachments": {},
   "cell_type": "markdown",
   "metadata": {},
   "source": [
    "1. append()\tAdds an element at the end of the list\n",
    "2. extend()\tAdds all the elements of an iterable (list, tuple, string etc.) to the end of the list\n",
    "3. remove()\tRemoves the first item with the specified value\n",
    "4. sort()\tSorts the list\n",
    "5. reverse()\tReverses the order of the list\n",
    "6. clear()\tRemoves all the elements from the list\n",
    "7. copy()\tReturns a copy of the list\n",
    "8. count()\tReturns the number of elements with the specified value\n",
    "9. index()\tReturns the index of the first element with the specified value\n",
    "10. insert()\tAdds an element at the specified position in the list \n",
    "11. pop()\tRemoves the element at the specified position in the list\n"
   ]
  },
  {
   "cell_type": "code",
   "execution_count": 23,
   "metadata": {},
   "outputs": [
    {
     "name": "stdout",
     "output_type": "stream",
     "text": [
      "['apple', 'banana', 'cherry', 'orange']\n",
      "['apple', 'banana', 'cherry', 'orange', [True, 10, 10.5, (1+2j)]]\n",
      "[True, 10, 10.5, (1+2j)] <class 'list'>\n",
      "True <class 'bool'>\n",
      "10 <class 'int'>\n",
      "----------------------------------------------------------------------------------------------------\n",
      "['apple', 'banana', 'cherry', 'o', 'r', 'a', 'n', 'g', 'e']\n",
      "['apple', 'banana', 'cherry', 'o', 'r', 'a', 'n', 'g', 'e', True, 10, 10.5, (1+2j)]\n",
      "r <class 'str'>\n",
      "----------------------------------------------------------------------------------------------------\n",
      "['apple', 'cherry']\n",
      "----------------------------------------------------------------------------------------------------\n",
      "['apple', 'banana', 'cherry']\n",
      "[1, 2, 3, 4, 5]\n",
      "[5, 4, 3, 2, 1]\n",
      "['Banana', 'Kiwi', 'Orange', 'apple', 'cherry']\n",
      "----------------------------------------------------------------------------------------------------\n",
      "['cherry', 'banana', 'apple']\n",
      "----------------------------------------------------------------------------------------------------\n",
      "[]\n",
      "----------------------------------------------------------------------------------------------------\n",
      "['apple', 'banana', 'cherry']\n",
      "['orange', 'banana', 'cherry']\n",
      "['apple', 'banana', 'cherry']\n",
      "----------------------------------------------------------------------------------------------------\n",
      "3\n",
      "1\n",
      "0\n",
      "----------------------------------------------------------------------------------------------------\n",
      "1\n",
      "2\n",
      "----------------------------------------------------------------------------------------------------\n",
      "['apple', 'orange', 'banana', 'cherry']\n",
      "----------------------------------------------------------------------------------------------------\n",
      "['apple', 'cherry']\n",
      "----------------------------------------------------------------------------------------------------\n"
     ]
    }
   ],
   "source": [
    "#append() method adds an item to the end of the list\n",
    "myList = [\"apple\", \"banana\", \"cherry\"]\n",
    "myList.append(\"orange\") # add item to the end of the list\n",
    "print(myList)\n",
    "list1 = [True, 10, 10.5 , 1+2j]\n",
    "myList.append(list1) # add list to the end of the list\n",
    "print(myList)\n",
    "print(myList[4], type(myList[4])) # print fourth item and type of fourth item\n",
    "print(myList[4][0], type(myList[4][0])) # print first item of fourth item and type of first item of fourth item\n",
    "print(myList[4][1], type(myList[4][1])) # print second item of fourth item and type of second item of fourth item\n",
    "print(\"----------------------------------------------------------------------------------------------------\")\n",
    "#extend() method adds all the elements of an iterable (list, tuple, string etc.) to the end of the list\n",
    "myList = [\"apple\", \"banana\", \"cherry\"]\n",
    "myList.extend(\"orange\") # add string to the end of the list\n",
    "print(myList)\n",
    "A = [True, 10, 10.5 , 1+2j]\n",
    "myList.extend(A) # add list to the end of the list\n",
    "print(myList)\n",
    "print(myList[4], type(myList[4])) # print fourth item and type of fourth item\n",
    "print(\"----------------------------------------------------------------------------------------------------\")\n",
    "#remove() method removes the specified item\n",
    "myList = [\"apple\", \"banana\", \"cherry\"]\n",
    "myList.remove(\"banana\") # remove item\n",
    "print(myList)\n",
    "print(\"----------------------------------------------------------------------------------------------------\")\n",
    "#sort() method sorts the list ascending by default\n",
    "myList = [\"apple\", \"banana\", \"cherry\"]\n",
    "myList.sort() # sort list ascending by default \n",
    "print(myList)\n",
    "A = [2, 1, 3, 5, 4] \n",
    "A.sort() # sort list\n",
    "B = [2, 1, 3, 5, 4]\n",
    "B.sort(reverse = True) # sort list descending\n",
    "print(A)\n",
    "print(B)\n",
    "txt = [\"Banana\", \"Orange\", \"Kiwi\", \"cherry\", \"apple\"]\n",
    "txt.sort() # sort list ascending by default according to ASCII\n",
    "print(txt)\n",
    "print(\"----------------------------------------------------------------------------------------------------\")\n",
    "#reverse() method reverses the sorting order of the elements\n",
    "myList = [\"apple\", \"banana\", \"cherry\"]\n",
    "myList.reverse() # reverse list\n",
    "print(myList)\n",
    "print(\"----------------------------------------------------------------------------------------------------\")\n",
    "#clear() method empties the list\n",
    "myList = [\"apple\", \"banana\", \"cherry\"]\n",
    "myList.clear() # clear list\n",
    "print(myList)\n",
    "print(\"----------------------------------------------------------------------------------------------------\")\n",
    "#copy() method returns a copy of the specified list\n",
    "myList = [\"apple\", \"banana\", \"cherry\"]\n",
    "A = myList.copy() # copy list to A shallow copy\n",
    "print(A)\n",
    "myList[0] = \"orange\" # change first item\n",
    "print(myList) # myList is changed\n",
    "print(A) # A is not changed\n",
    "print(\"----------------------------------------------------------------------------------------------------\")\n",
    "#count() method returns the number of elements with the specified value\n",
    "myList = [\"apple\", \"banana\", \"cherry\", \"banana\", \"banana\"]\n",
    "print(myList.count(\"banana\")) # count the number of \"banana\" in the list\n",
    "print(myList.count(\"apple\")) # count the number of \"apple\" in the list\n",
    "print(myList.count(\"orange\")) # count the number of \"orange\" in the list\n",
    "print(\"----------------------------------------------------------------------------------------------------\")\n",
    "#index() method returns the index of the first element with the specified value\n",
    "myList = [\"apple\", \"banana\", \"cherry\"]\n",
    "print(myList.index(\"banana\")) # find the first occurrence of \"banana\"\n",
    "print(myList.index(\"cherry\")) # find the first occurrence of \"cherry\"\n",
    "#print(myList.index(\"orange\")) # find the first occurrence of \"orange\" error\n",
    "print(\"----------------------------------------------------------------------------------------------------\")\n",
    "#insert() method inserts the specified value at the specified position\n",
    "myList = [\"apple\", \"banana\", \"cherry\"]\n",
    "myList.insert(1, \"orange\") # insert \"orange\" at index 1 before \"banana\"\n",
    "print(myList)\n",
    "print(\"----------------------------------------------------------------------------------------------------\")\n",
    "#pop() method removes the element at the specified position\n",
    "myList = [\"apple\", \"banana\", \"cherry\"]\n",
    "myList.pop(1) # remove \"banana\" at index 1\n",
    "print(myList)\n",
    "print(\"----------------------------------------------------------------------------------------------------\")\n"
   ]
  },
  {
   "attachments": {},
   "cell_type": "markdown",
   "metadata": {},
   "source": [
    "### Tuples <a id=\"tuples\"></a>"
   ]
  },
  {
   "attachments": {},
   "cell_type": "markdown",
   "metadata": {},
   "source": [
    "1. Tuples are used to store multiple items in a single variable.\n",
    "2. Tuple items are ordered, unchangeable, and allow duplicate values.\n",
    "3. Tuples items are enclosed in parentheses ().\n",
    "4. you can access tuple items by referring to the index number.\n",
    "5. you can not change tuple items.\n",
    "6. you can remove the parentheses.\n",
    "7. you can have different data types.\n",
    "8. operations on tuples: +, *, len(), in, not in, min(), max(), sum(), sorted(), reversed(), index(), count(), tuple(), list(), set(), dict(), zip(), enumerate(), all(), any(), filter(), map(), reduce()"
   ]
  },
  {
   "cell_type": "code",
   "execution_count": 24,
   "metadata": {},
   "outputs": [
    {
     "name": "stdout",
     "output_type": "stream",
     "text": [
      "('apple', 'banana', 'cherry', 'orange', 'kiwi', 'melon', 'mango', True, 10, 10.5, (1+2j))\n",
      "apple\n",
      "banana\n",
      "cherry\n",
      "(1+2j)\n",
      "10.5\n",
      "10\n",
      "('apple', 'banana')\n",
      "('apple', 'banana', 'cherry', 'orange', 'kiwi', 'melon', 'mango', True, 10, 10.5, (1+2j))\n",
      "('apple', 'banana')\n",
      "(10.5,)\n",
      "(10.5, (1+2j))\n",
      "('apple', 'banana', 'cherry', 'orange', 'kiwi', 'melon', 'mango', True, 10, 10.5)\n",
      "('apple', 'banana', 'cherry', 'orange', 'kiwi', 'melon', 'mango', True, 10, 10.5, (1+2j))\n",
      "('apple', 'cherry', 'kiwi', 'mango', 10, (1+2j))\n",
      "('apple', 'orange', 'mango', 10.5)\n",
      "('apple', 'cherry', 'kiwi', 'mango', 10, (1+2j))\n",
      "('apple', 'orange', 'mango', 10.5)\n",
      "((1+2j), 10.5, 10, True, 'mango', 'melon', 'kiwi', 'orange', 'cherry', 'banana', 'apple')\n",
      "((1+2j), 10, 'mango', 'kiwi', 'cherry', 'apple')\n",
      "((1+2j), True, 'kiwi', 'banana')\n",
      "((1+2j), 'mango', 'cherry')\n",
      "()\n"
     ]
    }
   ],
   "source": [
    "#Tuple\n",
    "myTuple = (\"apple\", \"banana\", \"cherry\", \"orange\", \"kiwi\", \"melon\", \"mango\" ,True, 10, 10.5 , 1+2j) # tuple can contain different data types\n",
    "print(myTuple) # print tuple\n",
    "print(myTuple[0]) # print first item\n",
    "print(myTuple[1]) # print second item\n",
    "print(myTuple[2]) # print third item\n",
    "print(myTuple[-1]) # print last item\n",
    "print(myTuple[-2]) # print second last item\n",
    "print(myTuple[-3]) # print third last item\n",
    "print(myTuple[0:2]) # print first and second item\n",
    "print(myTuple[0:]) # print all items\n",
    "print(myTuple[:2]) # print first and second item\n",
    "print(myTuple[-2:-1]) # print second last item  \n",
    "print(myTuple[-2:]) # print second last and last item\n",
    "print(myTuple[:-1]) # print all items except last item\n",
    "print(myTuple[:]) # print all items\n",
    "print(myTuple[0:11:2]) # print first to last item, step 2\n",
    "print(myTuple[0:11:3]) # print first to last item, step 3\n",
    "print(myTuple[::2]) # print all items, step 2\n",
    "print(myTuple[::3]) # print all items, step 3\n",
    "print(myTuple[::-1]) # print all items in reverse order\n",
    "print(myTuple[::-2]) # print all items in reverse order, step 2\n",
    "print(myTuple[::-3]) # print all items in reverse order, step 3\n",
    "print(myTuple[::-4]) # print all items in reverse order, step 4\n",
    "print(myTuple[0:11:-1]) # print all items in reverse order\n",
    "#tuples can not be changed\n",
    "#myTuple[0] = \"orange\" # change first item error\n",
    "#print(myTuple)\n",
    "#myTuple[0:2] = [\"strawberry\", \"raspberry\"] # change first and second item error\n",
    "#print(myTuple)\n"
   ]
  },
  {
   "attachments": {},
   "cell_type": "markdown",
   "metadata": {},
   "source": [
    "#### Tuples methods <a id=\"tuples-methods\"></a>"
   ]
  },
  {
   "attachments": {},
   "cell_type": "markdown",
   "metadata": {},
   "source": [
    "1. Tuple with one item: tuple_name = (item1,)\n",
    "2. count()\tReturns the number of times a specified value occurs in a tuple\n",
    "3. index()\tSearches the tuple for a specified value and returns the position of where it was found\n",
    "4. Tuple destructuring: item1, item2, item3 = tuple_name"
   ]
  },
  {
   "cell_type": "code",
   "execution_count": 25,
   "metadata": {},
   "outputs": [
    {
     "name": "stdout",
     "output_type": "stream",
     "text": [
      "('apple',)\n",
      "<class 'tuple'>\n",
      "apple\n",
      "<class 'str'>\n",
      "('a', 'p', 'p', 'l', 'e')\n",
      "<class 'tuple'>\n",
      "('apple',)\n",
      "<class 'tuple'>\n",
      "----------------------------------------------------------------------------------------------------\n",
      "('apple', 'banana', 'cherry', 'orange', 'kiwi', 'melon')\n",
      "----------------------------------------------------------------------------------------------------\n",
      "('apple', 'banana', 'cherry', 'apple', 'banana', 'cherry')\n",
      "----------------------------------------------------------------------------------------------------\n",
      "1\n",
      "1\n",
      "----------------------------------------------------------------------------------------------------\n",
      "apple\n",
      "banana\n",
      "cherry\n",
      "----------------------------------------------------------------------------------------------------\n"
     ]
    }
   ],
   "source": [
    "#Tuples with One Item\n",
    "myTuple = (\"apple\",) # tuple with one item\n",
    "print(myTuple)\n",
    "print(type(myTuple))\n",
    "myTuple = (\"apple\") # tuple without one item\n",
    "print(myTuple)\n",
    "print(type(myTuple))\n",
    "myTuple = tuple((\"apple\")) # tuple without one item\n",
    "print(myTuple)\n",
    "print(type(myTuple))\n",
    "myTuple = tuple((\"apple\",)) # tuple with one item\n",
    "print(myTuple)\n",
    "print(type(myTuple))\n",
    "print(\"----------------------------------------------------------------------------------------------------\")\n",
    "#Tuples concatenation\n",
    "myTuple1 = (\"apple\", \"banana\", \"cherry\")\n",
    "myTuple2 = (\"orange\", \"kiwi\", \"melon\")\n",
    "myTuple3 = myTuple1 + myTuple2 # concatenate two tuples\n",
    "print(myTuple3)\n",
    "print(\"----------------------------------------------------------------------------------------------------\")\n",
    "#Tuples multiplication\n",
    "myTuple = (\"apple\", \"banana\", \"cherry\")\n",
    "myTuple = myTuple * 2 # multiply tuple\n",
    "print(myTuple)\n",
    "print(\"----------------------------------------------------------------------------------------------------\") \n",
    "#Tuples methods\n",
    "myTuple = (\"apple\", \"banana\", \"cherry\")\n",
    "print(myTuple.count(\"banana\")) # count the number of \"banana\" in the tuple\n",
    "print(myTuple.index(\"banana\")) # find the first occurrence of \"banana\"\n",
    "print(\"----------------------------------------------------------------------------------------------------\")\n",
    "#Tuples Destruct \n",
    "myTuple = (\"apple\", \"banana\", \"cherry\")\n",
    "(green, yellow, red) = myTuple # destruct tuple\n",
    "print(green)\n",
    "print(yellow)\n",
    "print(red)\n",
    "print(\"----------------------------------------------------------------------------------------------------\")"
   ]
  },
  {
   "attachments": {},
   "cell_type": "markdown",
   "metadata": {},
   "source": [
    "### Sets <a id=\"sets\"></a>"
   ]
  },
  {
   "attachments": {},
   "cell_type": "markdown",
   "metadata": {},
   "source": [
    "1. sets are used to store multiple items in a single variable.\n",
    "2. sets Items are unordered, unchangeable, and do not allow duplicate values.\n",
    "3. Sets items are enclosed in curly brackets {}.\n",
    "4. set index number is not supported.\n",
    "5. set slicing is not supported.\n",
    "6. set items are unique.\n",
    "7. set items can have different data types like string, integer, float, boolean, set.\n",
    "8. set unhashable data types like list, tuple, dictionary can not be added to set."
   ]
  },
  {
   "cell_type": "code",
   "execution_count": 26,
   "metadata": {},
   "outputs": [
    {
     "name": "stdout",
     "output_type": "stream",
     "text": [
      "{True, 'melon', 'cherry', (1+2j), 'orange', 10, 10.5, 'apple', 'banana', 'mango', 'kiwi'}\n",
      "11\n",
      "<class 'set'>\n",
      "----------------------------------------------------------------------------------------------------\n"
     ]
    }
   ],
   "source": [
    "#Set\n",
    "mySet = {\"apple\", \"banana\", \"cherry\", \"orange\", \"kiwi\", \"melon\", \"mango\" ,True, 10, 10.5 , 1+2j} # set can contain different data types expect list, tuple and dictionary\n",
    "print(mySet) # print set\n",
    "print(len(mySet)) # print length of set\n",
    "print(type(mySet)) # print type of set\n",
    "print(\"----------------------------------------------------------------------------------------------------\")"
   ]
  },
  {
   "attachments": {},
   "cell_type": "markdown",
   "metadata": {},
   "source": [
    "#### Sets methods <a id=\"sets-methods\"></a>"
   ]
  },
  {
   "attachments": {},
   "cell_type": "markdown",
   "metadata": {},
   "source": [
    "1. clear()\tRemoves all the elements from the set\n",
    "2. union()\tReturns a set containing the union of sets\n",
    "3. add()\tAdds an element to the set\n",
    "4. copy()\tReturns a copy of the set\n",
    "5. remove()\tRemoves the specified element\n",
    "6. discard()\tRemoves the specified element\n",
    "7. pop()\tRemoves an element from the set\n",
    "8. update()\tUpdates the set with the union of this set and others\n",
    "9. difference()\tReturns a set containing the difference between two or more sets\n",
    "10. intersection()\tReturns a set, that is the intersection of two other sets\n",
    "11. symmetric_difference()\tReturns a set with the symmetric differences of two sets\n",
    "12. issuperset()\tReturns whether this set contains another set or not\n",
    "13. issubset()\tReturns whether another set contains this set or not\n",
    "14. isdisjoint()\tReturns whether two sets have a intersection or not"
   ]
  },
  {
   "cell_type": "code",
   "execution_count": 27,
   "metadata": {},
   "outputs": [
    {
     "name": "stdout",
     "output_type": "stream",
     "text": [
      "set()\n",
      "----------------------------------------------------------------------------------------------------\n",
      "{True, 10.5, 'banana', 'cherry', (1+2j), 10, 'apple'}\n",
      "----------------------------------------------------------------------------------------------------\n",
      "{'orange', 'apple', 'banana', 'cherry'}\n",
      "----------------------------------------------------------------------------------------------------\n",
      "{'apple', 'banana', 'cherry'}\n",
      "{'orange', 'apple', 'banana', 'cherry'}\n",
      "{'apple', 'banana', 'cherry'}\n",
      "----------------------------------------------------------------------------------------------------\n",
      "{'apple', 'cherry'}\n",
      "----------------------------------------------------------------------------------------------------\n",
      "{'apple', 'cherry'}\n",
      "{'apple', 'cherry'}\n",
      "----------------------------------------------------------------------------------------------------\n",
      "{'banana', 'cherry'}\n",
      "----------------------------------------------------------------------------------------------------\n",
      "{True, 10.5, 'banana', 'cherry', (1+2j), 10, 'apple'}\n",
      "{'melon', 'cherry', 'orange', 'apple', 'banana', 'kiwi'}\n",
      "----------------------------------------------------------------------------------------------------\n",
      "{'banana', 'cherry'}\n",
      "----------------------------------------------------------------------------------------------------\n",
      "{'banana', 'cherry'}\n",
      "----------------------------------------------------------------------------------------------------\n",
      "{'apple'}\n",
      "----------------------------------------------------------------------------------------------------\n",
      "{'apple'}\n",
      "----------------------------------------------------------------------------------------------------\n",
      "{'google', 'cherry', 'banana', 'microsoft'}\n",
      "----------------------------------------------------------------------------------------------------\n",
      "{'google', 'cherry', 'banana', 'microsoft'}\n",
      "----------------------------------------------------------------------------------------------------\n",
      "False\n",
      "----------------------------------------------------------------------------------------------------\n",
      "False\n",
      "----------------------------------------------------------------------------------------------------\n",
      "False\n",
      "----------------------------------------------------------------------------------------------------\n"
     ]
    }
   ],
   "source": [
    "#Set Methods\n",
    "mySet = {\"apple\", \"banana\", \"cherry\"}\n",
    "#clear() method empties the set\n",
    "mySet.clear() # clear set\n",
    "print(mySet)\n",
    "print(\"----------------------------------------------------------------------------------------------------\")\n",
    "#union() method returns a new set with all items from both sets\n",
    "mySet1 = {\"apple\", \"banana\", \"cherry\"}\n",
    "mySet2 = {True, 10, 10.5 , 1+2j}\n",
    "mySet3 = mySet1.union(mySet2) # union two sets\n",
    "print(mySet3)\n",
    "print(\"----------------------------------------------------------------------------------------------------\")\n",
    "#add() method adds an element to the set\n",
    "mySet = {\"apple\", \"banana\", \"cherry\"}\n",
    "mySet.add(\"orange\") # add item to the set\n",
    "print(mySet)\n",
    "print(\"----------------------------------------------------------------------------------------------------\")\n",
    "#copy() method returns a copy of the specified set shallow copy\n",
    "mySet = {\"apple\", \"banana\", \"cherry\"}\n",
    "A = mySet.copy() # copy set to A\n",
    "print(A)\n",
    "mySet.add(\"orange\") # add item to the set\n",
    "print(mySet) # mySet is changed\n",
    "print(A) # A is not changed\n",
    "print(\"----------------------------------------------------------------------------------------------------\")\n",
    "#remove() method removes the specified element\n",
    "mySet = {\"apple\", \"banana\", \"cherry\"}\n",
    "mySet.remove(\"banana\") # remove item\n",
    "print(mySet)\n",
    "print(\"----------------------------------------------------------------------------------------------------\")\n",
    "#discard() method removes the specified element\n",
    "mySet = {\"apple\", \"banana\", \"cherry\"}\n",
    "mySet.discard(\"banana\") # remove item\n",
    "print(mySet)\n",
    "#discard() method does not raise an error if the specified item does not exist\n",
    "mySet.discard(\"orange\") # remove item\n",
    "print(mySet)\n",
    "print(\"----------------------------------------------------------------------------------------------------\")\n",
    "#pop() method removes a random item\n",
    "mySet = {\"apple\", \"banana\", \"cherry\"}\n",
    "mySet.pop() # remove random item\n",
    "print(mySet)\n",
    "print(\"----------------------------------------------------------------------------------------------------\")\n",
    "#update() method updates the set with the union of this set and others\n",
    "mySet1 = {\"apple\", \"banana\", \"cherry\"}\n",
    "mySet2 = {True, 10, 10.5 , 1+2j}\n",
    "mySet1.update(mySet2) # update set\n",
    "print(mySet1)\n",
    "#update() method can take any iterable (list, tuple, dictionary etc.)\n",
    "mySet1 = {\"apple\", \"banana\", \"cherry\"}\n",
    "myList = [\"orange\", \"kiwi\", \"melon\"]\n",
    "mySet1.update(myList) # update set\n",
    "print(mySet1)\n",
    "print(\"----------------------------------------------------------------------------------------------------\")\n",
    "#difference() method returns a set that contains the difference between two sets\n",
    "mySet1 = {\"apple\", \"banana\", \"cherry\"}\n",
    "mySet2 = {\"google\", \"microsoft\", \"apple\"}\n",
    "mySet3 = mySet1.difference(mySet2) # difference two sets\n",
    "print(mySet3)\n",
    "print(\"----------------------------------------------------------------------------------------------------\")\n",
    "#difference_update() method removes the items that exist in both sets\n",
    "mySet1 = {\"apple\", \"banana\", \"cherry\"}\n",
    "mySet2 = {\"google\", \"microsoft\", \"apple\"}\n",
    "mySet1.difference_update(mySet2) # difference two sets\n",
    "print(mySet1)\n",
    "print(\"----------------------------------------------------------------------------------------------------\")\n",
    "#intersection() method returns a set that contains the similarity between two or more sets\n",
    "mySet1 = {\"apple\", \"banana\", \"cherry\"}\n",
    "mySet2 = {\"google\", \"microsoft\", \"apple\"}\n",
    "mySet3 = mySet1.intersection(mySet2) # intersection two sets\n",
    "print(mySet3)\n",
    "print(\"----------------------------------------------------------------------------------------------------\")\n",
    "#intersection_update() method removes the items that is not present in both sets\n",
    "mySet1 = {\"apple\", \"banana\", \"cherry\"}\n",
    "mySet2 = {\"google\", \"microsoft\", \"apple\"}\n",
    "mySet1.intersection_update(mySet2) # intersection two sets\n",
    "print(mySet1)\n",
    "print(\"----------------------------------------------------------------------------------------------------\")\n",
    "#symmetric_difference() method returns a set that contains all items from both sets, except items that are present in both sets\n",
    "mySet1 = {\"apple\", \"banana\", \"cherry\"}\n",
    "mySet2 = {\"google\", \"microsoft\", \"apple\"}\n",
    "mySet3 = mySet1.symmetric_difference(mySet2) # symmetric difference two sets\n",
    "print(mySet3)\n",
    "print(\"----------------------------------------------------------------------------------------------------\")\n",
    "#symmetric_difference_update() method inserts the symmetric differences from this set and another\n",
    "mySet1 = {\"apple\", \"banana\", \"cherry\"}\n",
    "mySet2 = {\"google\", \"microsoft\", \"apple\"}\n",
    "mySet1.symmetric_difference_update(mySet2) # symmetric difference two sets\n",
    "print(mySet1)\n",
    "print(\"----------------------------------------------------------------------------------------------------\")\n",
    "#issubset() method returns True if all items in the set exists in the specified set, otherwise it retuns False\n",
    "mySet1 = {\"apple\", \"banana\", \"cherry\"}\n",
    "mySet2 = {\"google\", \"microsoft\", \"apple\"}\n",
    "print(mySet1.issubset(mySet2)) # check if all items in the set exists in the specified set\n",
    "print(\"----------------------------------------------------------------------------------------------------\")\n",
    "#issubset() method returns True if all items in the set exists in the specified set, otherwise it retuns False\n",
    "mySet1 = {\"apple\", \"banana\", \"cherry\"}\n",
    "mySet2 = {\"google\", \"microsoft\", \"apple\"}\n",
    "print(mySet1.issuperset(mySet2)) # check if all items in the set exists in the specified set\n",
    "print(\"----------------------------------------------------------------------------------------------------\")\n",
    "#isdisjoint() method returns True if none of the items are present in both sets, otherwise it retuns False\n",
    "mySet1 = {\"apple\", \"banana\", \"cherry\"}\n",
    "mySet2 = {\"google\", \"microsoft\", \"apple\"}\n",
    "print(mySet1.isdisjoint(mySet2)) # check if none of the items are present in both sets\n",
    "print(\"----------------------------------------------------------------------------------------------------\")\n",
    "\n"
   ]
  },
  {
   "attachments": {},
   "cell_type": "markdown",
   "metadata": {},
   "source": [
    "### Dictionaries <a id=\"dictionaries\"></a>"
   ]
  },
  {
   "attachments": {},
   "cell_type": "markdown",
   "metadata": {},
   "source": [
    "1. Dictionaries are used to store multiple items in a single variable.\n",
    "2. Dictitems are enclosed in curly brackets {}.\n",
    "3. Dictitems are unordered, changeable, and do not allow duplicate values.\n",
    "4. Dictrules: dict_name = {key1: value1, key2: value2, key3: value3}\n",
    "5. list not supported as key.\n",
    "6. value can be any data type.\n",
    "7. key is unique."
   ]
  },
  {
   "cell_type": "code",
   "execution_count": 28,
   "metadata": {},
   "outputs": [
    {
     "name": "stdout",
     "output_type": "stream",
     "text": [
      "{'name': 'John', 'age': 36, 'country': 'Norway', 'skills': ['Python', 'Java', 'C++']}\n",
      "John\n",
      "36\n",
      "Norway\n",
      "['Python', 'Java', 'C++']\n",
      "Python\n",
      "Java\n",
      "C++\n",
      "['Python', 'Java']\n",
      "[{'name': 'John', 'age': 36, 'country': 'Norway', 'skills': ['Python', 'Java', 'C++']}, {'name': 'Peter', 'age': 46, 'country': 'Sweden', 'skills': ['Python', 'Java', 'C++']}, {'name': 'Vicky', 'age': 26, 'country': 'Denmark', 'skills': ['Python', 'Java', 'C++']}]\n",
      "{'name': 'John', 'age': 36, 'country': 'Norway', 'skills': ['Python', 'Java', 'C++']}\n",
      "{'name': 'Peter', 'age': 46, 'country': 'Sweden', 'skills': ['Python', 'Java', 'C++']}\n",
      "{'name': 'Vicky', 'age': 26, 'country': 'Denmark', 'skills': ['Python', 'Java', 'C++']}\n",
      "John\n",
      "36\n",
      "Norway\n",
      "['Python', 'Java', 'C++']\n",
      "Python\n",
      "Java\n",
      "C++\n",
      "['Python', 'Java']\n",
      "Peter\n",
      "3\n",
      "{'programmingone': {'languages': 'Python', 'prograss': 0.8}, 'programmingtwo': {'languages': 'Java', 'prograss': 0.6}, 'programmingthree': {'languages': 'C++', 'prograss': 0.4}}\n",
      "{'languages': 'Python', 'prograss': 0.8}\n",
      "{'languages': 'Java', 'prograss': 0.6}\n",
      "{'languages': 'C++', 'prograss': 0.4}\n",
      "----------------------------------------------------------------------------------------------------\n"
     ]
    }
   ],
   "source": [
    "#Dictionary\n",
    "user = {\n",
    "    \"name\": \"John\",\n",
    "    \"age\": 36,\n",
    "    \"country\": \"Norway\",\n",
    "    \"skills\": [\"Python\", \"Java\", \"C++\"]\n",
    "} # dictionary can contain different data types\n",
    "print(user) # print dictionary\n",
    "print(user[\"name\"]) # print value of key \"name\"\n",
    "print(user[\"age\"]) # print value of key \"age\"\n",
    "print(user[\"country\"]) # print value of key \"country\"\n",
    "print(user[\"skills\"]) # print value of key \"skills\"\n",
    "print(user[\"skills\"][0]) # print first item of key \"skills\"\n",
    "print(user[\"skills\"][1]) # print second item of key \"skills\"\n",
    "print(user[\"skills\"][2]) # print third item of key \"skills\"\n",
    "print(user[\"skills\"][0:2]) # print first and second item of key \"skills\"\n",
    "#TWO Dimensional Dictionary\n",
    "users = [\n",
    "    {\n",
    "        \"name\": \"John\",\n",
    "        \"age\": 36,\n",
    "        \"country\": \"Norway\",\n",
    "        \"skills\": [\"Python\", \"Java\", \"C++\"]\n",
    "    },\n",
    "    {\n",
    "        \"name\": \"Peter\",\n",
    "        \"age\": 46,\n",
    "        \"country\": \"Sweden\",\n",
    "        \"skills\": [\"Python\", \"Java\", \"C++\"]\n",
    "    },\n",
    "    {\n",
    "        \"name\": \"Vicky\",\n",
    "        \"age\": 26,\n",
    "        \"country\": \"Denmark\",\n",
    "        \"skills\": [\"Python\", \"Java\", \"C++\"]\n",
    "    }\n",
    "] # dictionary can contain different data types\n",
    "print(users) # print dictionary\n",
    "print(users[0]) # print first item\n",
    "print(users[1]) # print second item\n",
    "print(users[2]) # print third item\n",
    "print(users[0][\"name\"]) # print value of key \"name\"\n",
    "print(users[0][\"age\"]) # print value of key \"age\"\n",
    "print(users[0][\"country\"]) # print value of key \"country\"\n",
    "print(users[0][\"skills\"]) # print value of key \"skills\"\n",
    "print(users[0][\"skills\"][0]) # print first item of key \"skills\"\n",
    "print(users[0][\"skills\"][1]) # print second item of key \"skills\"\n",
    "print(users[0][\"skills\"][2]) # print third item of key \"skills\"\n",
    "print(users[0][\"skills\"][0:2]) # print first and second item of key \"skills\"\n",
    "print(users[1][\"name\"]) # print value of key \"name\"\n",
    "print(len(users)) # print length of dictionary\n",
    "programmingone = {\n",
    "    \"languages\": \"Python\",\n",
    "    \"prograss\": 0.8\n",
    "} # dictionary can contain different data types\n",
    "programmingtwo = {\n",
    "    \"languages\": \"Java\",\n",
    "    \"prograss\": 0.6\n",
    "} # dictionary can contain different data types\n",
    "programmingthree = {\n",
    "    \"languages\": \"C++\",\n",
    "    \"prograss\": 0.4\n",
    "} # dictionary can contain different data types\n",
    "programming = {\n",
    "    \"programmingone\": programmingone,\n",
    "    \"programmingtwo\": programmingtwo,\n",
    "    \"programmingthree\": programmingthree\n",
    "} # dictionary can contain different data types\n",
    "print(programming) # print dictionary\n",
    "print(programming[\"programmingone\"]) # print first item\n",
    "print(programming[\"programmingtwo\"]) # print second item\n",
    "print(programming[\"programmingthree\"]) # print third item\n",
    "print(\"----------------------------------------------------------------------------------------------------\")\n"
   ]
  },
  {
   "attachments": {},
   "cell_type": "markdown",
   "metadata": {},
   "source": [
    "#### Dictionaries methods <a id=\"dictionaries-methods\"></a>"
   ]
  },
  {
   "attachments": {},
   "cell_type": "markdown",
   "metadata": {},
   "source": [
    "1. clear()\tRemoves all the elements from the dictionary\n",
    "2. update()\tUpdates the dictionary with the specified key-value pairs\n",
    "3. copy()\tReturns a copy of the dictionary\n",
    "4. keys()\tReturns a list containing the dictionary's keys\n",
    "5. values()\tReturns a list of all the values in the dictionary\n",
    "6. setdefault()\tReturns the value of the specified key. If the key does not exist: insert the key, with the specified value\n",
    "7. popitem()\tRemoves the last inserted key-value pair\n",
    "8. items()\tReturns a list containing a tuple for each key value pair\n",
    "9. fromkeys()\tReturns a dictionary with the specified keys and values"
   ]
  },
  {
   "cell_type": "code",
   "execution_count": 29,
   "metadata": {},
   "outputs": [
    {
     "name": "stdout",
     "output_type": "stream",
     "text": [
      "{'name': 'John', 'age': 36, 'country': 'Norway', 'skills': ['Python', 'Java', 'C++']}\n",
      "{}\n",
      "----------------------------------------------------------------------------------------------------\n",
      "{'name': 'Peter', 'age': 36, 'country': 'Norway', 'skills': ['Python', 'Java', 'C++']}\n",
      "----------------------------------------------------------------------------------------------------\n",
      "{'name': 'John', 'age': 36, 'country': 'Norway', 'skills': ['Python', 'Java', 'C++']}\n",
      "{'name': 'Peter', 'age': 36, 'country': 'Norway', 'skills': ['Python', 'Java', 'C++']}\n",
      "{'name': 'John', 'age': 36, 'country': 'Norway', 'skills': ['Python', 'Java', 'C++']}\n",
      "----------------------------------------------------------------------------------------------------\n",
      "dict_keys(['name', 'age', 'country', 'skills'])\n",
      "----------------------------------------------------------------------------------------------------\n",
      "dict_values(['John', 36, 'Norway', ['Python', 'Java', 'C++']])\n",
      "----------------------------------------------------------------------------------------------------\n",
      "John\n",
      "36\n",
      "Norway\n",
      "['Python', 'Java', 'C++']\n",
      "Python\n",
      "Java\n",
      "C++\n",
      "['Python', 'Java']\n",
      "----------------------------------------------------------------------------------------------------\n",
      "{'name': 'John', 'age': 36, 'country': 'Norway'}\n",
      "----------------------------------------------------------------------------------------------------\n",
      "{'name': 'John', 'age': 36, 'country': 'Norway'}\n",
      "----------------------------------------------------------------------------------------------------\n",
      "dict_items([('name', 'John'), ('age', 36), ('country', 'Norway'), ('skills', ['Python', 'Java', 'C++'])])\n",
      "----------------------------------------------------------------------------------------------------\n",
      "{'country': None, 'age': None, 'skills': None, 'name': None}\n",
      "{'country': 'unknown', 'age': 'unknown', 'skills': 'unknown', 'name': 'unknown'}\n",
      "----------------------------------------------------------------------------------------------------\n"
     ]
    }
   ],
   "source": [
    "#create dictionary\n",
    "user = dict(name = \"John\", \n",
    "            age = 36, country = \"Norway\", \n",
    "            skills = [\"Python\", \"Java\", \"C++\"]) # dictionary can contain different data types\n",
    "print(user) # print dictionary\n",
    "#clear() method empties the dictionary\n",
    "user.clear() # clear dictionary\n",
    "print(user)\n",
    "print(\"----------------------------------------------------------------------------------------------------\")\n",
    "#update() method updates the dictionary with the specified key-value pairs\n",
    "user = dict(name = \"John\",\n",
    "            age = 36, \n",
    "            country = \"Norway\",\n",
    "            skills = [\"Python\", \"Java\", \"C++\"]) # dictionary can contain different data types\n",
    "user.update({\"name\": \"Peter\"}) # update dictionary\n",
    "print(user)\n",
    "print(\"----------------------------------------------------------------------------------------------------\")\n",
    "#copy() method returns a copy of the specified dictionary shallow copy\n",
    "user = dict(name = \"John\",\n",
    "            age = 36,\n",
    "            country = \"Norway\",\n",
    "            skills = [\"Python\", \"Java\", \"C++\"]) # dictionary can contain different data types\n",
    "A = user.copy() # copy dictionary to A\n",
    "print(A)\n",
    "user.update({\"name\": \"Peter\"}) # update dictionary\n",
    "print(user) # user is changed\n",
    "print(A) # A is not changed\n",
    "print(\"----------------------------------------------------------------------------------------------------\")\n",
    "#keys() method returns a view object. The view object contains the keys of the dictionary, as a list\n",
    "user = dict(name = \"John\",\n",
    "            age = 36,\n",
    "            country = \"Norway\",\n",
    "            skills = [\"Python\", \"Java\", \"C++\"]) # dictionary can contain different data types\n",
    "print(user.keys()) # print keys of dictionary\n",
    "print(\"----------------------------------------------------------------------------------------------------\")\n",
    "#values() method returns a view object. The view object contains the values of the dictionary, as a list\n",
    "user = dict(name = \"John\",\n",
    "            age = 36,\n",
    "            country = \"Norway\",\n",
    "            skills = [\"Python\", \"Java\", \"C++\"]) # dictionary can contain different data types\n",
    "print(user.values()) # print values of dictionary\n",
    "print(\"----------------------------------------------------------------------------------------------------\")\n",
    "#setdefault() method returns the value of the item with the specified key\n",
    "user = dict(name = \"John\",\n",
    "            age = 36,\n",
    "            country = \"Norway\",\n",
    "            skills = [\"Python\", \"Java\", \"C++\"]) # dictionary can contain different data types\n",
    "print(user.setdefault(\"name\")) # print value of key \"name\"\n",
    "print(user.setdefault(\"age\")) # print value of key \"age\"\n",
    "print(user.setdefault(\"country\")) # print value of key \"country\"\n",
    "print(user.setdefault(\"skills\")) # print value of key \"skills\"\n",
    "print(user.setdefault(\"skills\")[0]) # print first item of key \"skills\"\n",
    "print(user.setdefault(\"skills\")[1]) # print second item of key \"skills\"\n",
    "print(user.setdefault(\"skills\")[2]) # print third item of key \"skills\"\n",
    "print(user.setdefault(\"skills\")[0:2]) # print first and second item of key \"skills\"\n",
    "print(\"----------------------------------------------------------------------------------------------------\")\n",
    "#popitem() method removes the item that was last inserted into the dictionary\n",
    "user = dict(name = \"John\",\n",
    "            age = 36,\n",
    "            country = \"Norway\",\n",
    "            skills = [\"Python\", \"Java\", \"C++\"]) # dictionary can contain different data types\n",
    "user.popitem() # remove last item\n",
    "print(user)\n",
    "print(\"----------------------------------------------------------------------------------------------------\")\n",
    "#pop() method removes the specified item\n",
    "user = dict(name = \"John\",\n",
    "            age = 36,\n",
    "            country = \"Norway\",\n",
    "            skills = [\"Python\", \"Java\", \"C++\"]) # dictionary can contain different data types\n",
    "user.pop(\"skills\") # remove item\n",
    "print(user)\n",
    "print(\"----------------------------------------------------------------------------------------------------\")\n",
    "#items() method returns a view object. The view object contains the key-value pairs of the dictionary, as tuples in a list\n",
    "user = dict(name = \"John\",\n",
    "            age = 36,\n",
    "            country = \"Norway\",\n",
    "            skills = [\"Python\", \"Java\", \"C++\"]) # dictionary can contain different data types\n",
    "print(user.items()) # print key-value pairs of dictionary\n",
    "print(\"----------------------------------------------------------------------------------------------------\")\n",
    "#fromkeys() method returns a dictionary with the specified keys and the specified value\n",
    "keys = {\"name\", \"age\", \"country\", \"skills\"}\n",
    "user = dict.fromkeys(keys) # create dictionary with keys\n",
    "print(user)\n",
    "user = dict.fromkeys(keys, \"unknown\") # create dictionary with keys and value\n",
    "print(user)\n",
    "print(\"----------------------------------------------------------------------------------------------------\")"
   ]
  },
  {
   "attachments": {},
   "cell_type": "markdown",
   "metadata": {},
   "source": [
    "### Booleans <a id=\"booleans\"></a>"
   ]
  },
  {
   "attachments": {},
   "cell_type": "markdown",
   "metadata": {},
   "source": [
    "1. Booleans are used to represent the truth values True and False.\n",
    "2. In programming, booleans are used to control the flow of a program (if statements, while loops, etc.).\n",
    "3. Boolean values are the two constant objects False and True."
   ]
  },
  {
   "cell_type": "code",
   "execution_count": 30,
   "metadata": {},
   "outputs": [
    {
     "name": "stdout",
     "output_type": "stream",
     "text": [
      "True\n",
      "False\n",
      "False\n",
      "True\n",
      "True\n",
      "False\n",
      "False\n",
      "False\n",
      "False\n",
      "True\n"
     ]
    }
   ],
   "source": [
    "#Boolean\n",
    "print(10 > 9) # print True\n",
    "print(10 == 9) # print False\n",
    "print(10 < 9) # print False\n",
    "print(bool(\"Hello\")) # print True\n",
    "print(bool(15)) # print True\n",
    "print(bool(0)) # print False\n",
    "print(bool(\"\")) # print False\n",
    "print(bool(None)) # print False\n",
    "print(bool(False)) # print False\n",
    "print(bool(True)) # print True"
   ]
  },
  {
   "attachments": {},
   "cell_type": "markdown",
   "metadata": {},
   "source": [
    "#### Boolean Operators <a id=\"boolean-operators\"></a>"
   ]
  },
  {
   "attachments": {},
   "cell_type": "markdown",
   "metadata": {},
   "source": [
    "1. Boolean operators are used to compare values.\n",
    "2. and returns True if both statements are true.\n",
    "3. or returns True if one of the statements is true.\n",
    "4. not returns False if the result is true."
   ]
  },
  {
   "cell_type": "code",
   "execution_count": 31,
   "metadata": {},
   "outputs": [
    {
     "name": "stdout",
     "output_type": "stream",
     "text": [
      "False\n",
      "True\n",
      "True\n",
      "False\n"
     ]
    }
   ],
   "source": [
    "#boolean operators\n",
    "print(10 > 9 and 10 == 9) # print False\n",
    "print(10 > 9 or 10 == 9) # print True\n",
    "print(not(10 > 9 and 10 == 9)) # print True\n",
    "print(not(10 > 9 or 10 == 9)) # print False\n"
   ]
  },
  {
   "attachments": {},
   "cell_type": "markdown",
   "metadata": {},
   "source": [
    "#### Assignment Operators <a id=\"assignment-operators\"></a>"
   ]
  },
  {
   "attachments": {},
   "cell_type": "markdown",
   "metadata": {},
   "source": [
    "1. = is used to assign a value to a variable.\n",
    "2. += is used to add a value to a variable.\n",
    "3. -= is used to subtract a value from a variable.\n",
    "4. *= is used to multiply a variable by a value.\n",
    "5. /= is used to divide a variable by a value.\n",
    "6. **= is used to raise a variable to the power of a value.\n",
    "7. %= is used to get the remainder of a variable divided by a value.\n",
    "8. //= is used to get the integer part of the quotient of a variable divided by a value."
   ]
  },
  {
   "cell_type": "code",
   "execution_count": 32,
   "metadata": {},
   "outputs": [
    {
     "name": "stdout",
     "output_type": "stream",
     "text": [
      "5\n",
      "8\n",
      "11\n",
      "2\n",
      "-1\n",
      "15\n",
      "45\n",
      "1.6666666666666667\n",
      "0.5555555555555556\n",
      "2\n",
      "2\n",
      "1\n",
      "0\n",
      "125\n",
      "1953125\n"
     ]
    }
   ],
   "source": [
    "# Assignment Operators\n",
    "x = 5\n",
    "print(x) # print 5\n",
    "x = x + 3\n",
    "print(x) # print 8\n",
    "x += 3\n",
    "print(x) # print 8\n",
    "x = 5\n",
    "x = x - 3\n",
    "print(x) # print 2\n",
    "x -= 3\n",
    "print(x) # print 2\n",
    "x = 5\n",
    "x = x * 3\n",
    "print(x) # print 15\n",
    "x *= 3\n",
    "print(x) # print 15\n",
    "x = 5\n",
    "x = x / 3\n",
    "print(x) # print 1.6666666666666667\n",
    "x /= 3\n",
    "print(x) # print 1.6666666666666667\n",
    "x = 5\n",
    "x = x % 3\n",
    "print(x) # print 2\n",
    "x %= 3\n",
    "print(x) # print 2\n",
    "x = 5\n",
    "x = x // 3\n",
    "print(x) # print 1\n",
    "x //= 3\n",
    "print(x) # print 1\n",
    "x = 5\n",
    "x = x ** 3\n",
    "print(x) # print 125\n",
    "x **= 3\n",
    "print(x) # print 125\n"
   ]
  },
  {
   "attachments": {},
   "cell_type": "markdown",
   "metadata": {},
   "source": [
    "#### Comparison Operators <a id=\"comparison-operators\"></a>"
   ]
  },
  {
   "attachments": {},
   "cell_type": "markdown",
   "metadata": {},
   "source": [
    "1. Comparison operators are used to compare two values.\n",
    "2. == is used to compare two values.\n",
    "3. != is used to compare two values.\n",
    "4. '>' is used to compare two values.\n",
    "5. '<' is used to compare two values.\n",
    "6. '>=' is used to compare two values.\n",
    "7. '<=' is used to compare two values."
   ]
  },
  {
   "cell_type": "code",
   "execution_count": 33,
   "metadata": {},
   "outputs": [
    {
     "name": "stdout",
     "output_type": "stream",
     "text": [
      "False\n",
      "True\n",
      "True\n",
      "False\n",
      "True\n",
      "False\n"
     ]
    }
   ],
   "source": [
    "# Comparison Operators\n",
    "x = 5\n",
    "y = 3\n",
    "print(x == y) # print False\n",
    "print(x != y) # print True\n",
    "print(x > y) # print True\n",
    "print(x < y) # print False\n",
    "print(x >= y) # print True\n",
    "print(x <= y) # print False"
   ]
  },
  {
   "attachments": {},
   "cell_type": "markdown",
   "metadata": {},
   "source": [
    "## Type Conversion <a id=\"type-conversion\"></a>"
   ]
  },
  {
   "attachments": {},
   "cell_type": "markdown",
   "metadata": {},
   "source": [
    "1. Type conversion is the process of converting one data type to another.\n",
    "2. Type conversion is done by using built-in functions like int(), float(), str(), bool(), list(), tuple(), set(), dict()."
   ]
  },
  {
   "cell_type": "code",
   "execution_count": 34,
   "metadata": {},
   "outputs": [
    {
     "name": "stdout",
     "output_type": "stream",
     "text": [
      "<class 'int'>\n",
      "<class 'float'>\n",
      "<class 'complex'>\n",
      "<class 'float'>\n",
      "<class 'int'>\n",
      "<class 'complex'>\n",
      "1.0\n",
      "2\n",
      "(1+0j)\n",
      "<class 'str'>\n",
      "<class 'str'>\n",
      "<class 'str'>\n",
      "<class 'int'>\n",
      "<class 'float'>\n",
      "<class 'complex'>\n",
      "1\n",
      "2.8\n",
      "1j\n",
      "<class 'list'>\n",
      "<class 'tuple'>\n",
      "('apple', 'banana', 'cherry')\n",
      "<class 'tuple'>\n",
      "<class 'list'>\n",
      "['apple', 'banana', 'cherry']\n",
      "<class 'list'>\n",
      "<class 'set'>\n",
      "{'cherry', 'apple', 'banana'}\n",
      "<class 'set'>\n",
      "<class 'list'>\n",
      "['apple', 'banana', 'cherry']\n",
      "<class 'list'>\n",
      "<class 'dict'>\n",
      "{'name': 'John', 'age': 36}\n",
      "<class 'dict'>\n",
      "<class 'list'>\n",
      "['name', 'age']\n"
     ]
    }
   ],
   "source": [
    "## Type Conversion\n",
    "x = 1 # int\n",
    "y = 2.8 # float\n",
    "z = 1j # complex\n",
    "print(type(x)) # print <class 'int'>\n",
    "print(type(y)) # print <class 'float'>\n",
    "print(type(z)) # print <class 'complex'>\n",
    "x = float(x) # convert from int to float\n",
    "y = int(y) # convert from float to int\n",
    "z = complex(x) # convert from int to complex\n",
    "print(type(x)) # print <class 'float'>\n",
    "print(type(y)) # print <class 'int'>\n",
    "print(type(z)) # print <class 'complex'>\n",
    "print(x) # print 1.0\n",
    "print(y) # print 2\n",
    "print(z) # print (1+0j)\n",
    "#string to int\n",
    "x = \"1\" # str\n",
    "y = \"2.8\" # str\n",
    "z = \"1j\" # str\n",
    "print(type(x)) # print <class 'str'>\n",
    "print(type(y)) # print <class 'str'>\n",
    "print(type(z)) # print <class 'str'>\n",
    "x = int(x) # convert from str to int\n",
    "y = float(y) # convert from str to float\n",
    "z = complex(z) # convert from str to complex\n",
    "print(type(x)) # print <class 'int'>\n",
    "print(type(y)) # print <class 'float'>\n",
    "print(type(z)) # print <class 'complex'>\n",
    "print(x) # print 1\n",
    "print(y) # print 2.8\n",
    "print(z) # print 1j\n",
    "#list to tuple\n",
    "x = [\"apple\", \"banana\", \"cherry\"] # list\n",
    "print(type(x)) # print <class 'list'>\n",
    "x = tuple(x) # convert from list to tuple\n",
    "print(type(x)) # print <class 'tuple'>\n",
    "print(x) # print ('apple', 'banana', 'cherry')\n",
    "#tuple to list\n",
    "x = (\"apple\", \"banana\", \"cherry\") # tuple\n",
    "print(type(x)) # print <class 'tuple'>\n",
    "x = list(x) # convert from tuple to list\n",
    "print(type(x)) # print <class 'list'>\n",
    "print(x) # print ['apple', 'banana', 'cherry']\n",
    "#list to set\n",
    "x = [\"apple\", \"banana\", \"cherry\"] # list\n",
    "print(type(x)) # print <class 'list'>\n",
    "x = set(x) # convert from list to set\n",
    "print(type(x)) # print <class 'set'>\n",
    "print(x) # print {'banana', 'apple', 'cherry'}\n",
    "#set to list\n",
    "x = {\"apple\", \"banana\", \"cherry\"} # set\n",
    "print(type(x)) # print <class 'set'>\n",
    "x = list(x) # convert from set to list\n",
    "print(type(x)) # print <class 'list'>\n",
    "print(x) # print ['banana', 'apple', 'cherry']\n",
    "#list to dictionary\n",
    "x = [[\"name\", \"John\"], [\"age\", 36]] # list\n",
    "print(type(x)) # print <class 'list'>\n",
    "x = dict(x) # convert from list to dictionary\n",
    "print(type(x)) # print <class 'dict'>\n",
    "print(x) # print {'name': 'John', 'age': 36}\n",
    "#dictionary to list\n",
    "x = {\"name\": \"John\", \"age\": 36} # dictionary\n",
    "print(type(x)) # print <class 'dict'>\n",
    "x = list(x) # convert from dictionary to list\n",
    "print(type(x)) # print <class 'list'>\n",
    "print(x) # print ['name', 'age']\n"
   ]
  },
  {
   "attachments": {},
   "cell_type": "markdown",
   "metadata": {},
   "source": [
    "## User Input <a id=\"user-input\"></a>"
   ]
  },
  {
   "attachments": {},
   "cell_type": "markdown",
   "metadata": {},
   "source": [
    "1. input() is used to get user input.\n",
    "2. input() returns a string.\n",
    "3. input() can take a prompt as an argument.\n",
    "4. input() can take a variable as an argument.\n",
    "5. input() can take an expression as an argument."
   ]
  },
  {
   "cell_type": "code",
   "execution_count": 35,
   "metadata": {},
   "outputs": [
    {
     "name": "stdout",
     "output_type": "stream",
     "text": [
      "Enter your name:\n",
      "Hello, Mohamed\n",
      "Hello, Mohamed Ismail\n",
      "Hello, M Ismail\n"
     ]
    }
   ],
   "source": [
    "#input() function\n",
    "print(\"Enter your name:\")\n",
    "x = input() # get input from user\n",
    "print(\"Hello, \" + x) # print Hello, and input from user\n",
    "firstName = input(\"Enter your first name:\") # get input from user\n",
    "lastName = input(\"Enter your last name:\") # get input from user\n",
    "firstName = firstName.capitalize().strip() # capitalize first letter of first name strip() method removes any whitespace from the beginning or the end\n",
    "lastName = lastName.capitalize().strip() # capitalize first letter of last name strip() method removes any whitespace from the beginning or the end\n",
    "print(f'Hello, {firstName} {lastName}') # print Hello, and input from user\n",
    "print(f'Hello, {firstName:.1s} {lastName}') # print Hello, and input from user with first letter of first name"
   ]
  },
  {
   "attachments": {},
   "cell_type": "markdown",
   "metadata": {},
   "source": [
    "## Practical Examples <a id=\"practical-examples\"></a>"
   ]
  },
  {
   "attachments": {},
   "cell_type": "markdown",
   "metadata": {},
   "source": [
    "### Practical slice email <a id=\"practical-slice-email\"></a>"
   ]
  },
  {
   "cell_type": "code",
   "execution_count": 36,
   "metadata": {},
   "outputs": [
    {
     "name": "stdout",
     "output_type": "stream",
     "text": [
      "Hello Mohamedismail, your email is Mohamed_Ismail@Python.org\n",
      "Your Username is Mohamed_ismail\n",
      "Your Domain is Python.org\n"
     ]
    }
   ],
   "source": [
    "Name = input(\"Enter your name:\").strip().capitalize() # get input from user strip() method removes any whitespace from the beginning or the end capitalize() method converts the first character to upper case\n",
    "Email = input(\"Enter your email:\").strip() # get input from user strip() method removes any whitespace from the beginning or the end\n",
    "print(f'Hello {Name}, your email is {Email}')\n",
    "Username = Email[:Email.index(\"@\")].strip().capitalize() # get Username strip() method removes any whitespace from the beginning or the end capitalize() method converts the first character to upper case\n",
    "Domain = Email[Email.index(\"@\")+1:].strip() # get Domain strip() method removes any whitespace from the beginning or the end\n",
    "print(f'Your Username is {Username}') # print Username\n",
    "print(f'Your Domain is {Domain}') # print Domain"
   ]
  },
  {
   "attachments": {},
   "cell_type": "markdown",
   "metadata": {},
   "source": [
    "### Practical Age Full Details <a id=\"practical-age-full-details\"></a>"
   ]
  },
  {
   "cell_type": "code",
   "execution_count": 37,
   "metadata": {},
   "outputs": [
    {
     "name": "stdout",
     "output_type": "stream",
     "text": [
      "You are 24 years old.\n",
      "You are 288 months old.\n",
      "You are 1,248 weeks old.\n",
      "You are 8,760 days old.\n",
      "You are 210,240 hours old.\n",
      "You are 12,614,400 minutes old.\n",
      "You are 756,864,000 seconds old.\n"
     ]
    }
   ],
   "source": [
    "age = int(input(\"Enter your age: \").strip()) # get input from user strip() method removes any whitespace from the beginning or the end int() method converts string to integer\n",
    "\n",
    "# get age in all units\n",
    "months = age * 12 # get age in months\n",
    "weeks = age * 52 # get age in weeks\n",
    "days = age * 365 # get age in days\n",
    "hours = days * 24 # get age in hours\n",
    "minutes = hours * 60 # get age in minutes\n",
    "seconds = minutes * 60 # get age in seconds\n",
    "print (f'You are {age} years old.') # print age in years\n",
    "print (f'You are {months} months old.') # print age in months\n",
    "print (f'You are {weeks:,} weeks old.') # print age in weeks\n",
    "print (f'You are {days:,} days old.') # print age in days\n",
    "print (f'You are {hours:,} hours old.') # print age in hours\n",
    "print (f'You are {minutes:,} minutes old.') # print age in minutes\n",
    "print (f'You are {seconds:,} seconds old.') # print age in seconds\n"
   ]
  },
  {
   "attachments": {},
   "cell_type": "markdown",
   "metadata": {},
   "source": [
    "## Control Flow <a id=\"control-flow\"></a>"
   ]
  },
  {
   "attachments": {},
   "cell_type": "markdown",
   "metadata": {},
   "source": [
    "### if Statement <a id=\"if-statement\"></a>"
   ]
  },
  {
   "attachments": {},
   "cell_type": "markdown",
   "metadata": {},
   "source": [
    "1. if statement is used to execute a block of code if a condition is true.\n",
    "2. if statement is written by using the if keyword, a condition, a colon (:), and a block of code.\n",
    "3. elif statement is used to execute a block of code if the first condition is false and the second condition is true.\n",
    "4. else statement is used to execute a block of code if the first condition is false and the second condition is false.\n",
    "5. Nested if statements are used to execute a block of code if a condition is true and another condition is true.\n",
    "6. if statements can be nested inside other if statements.\n",
    "if statement syntax:\n",
    "```python\n",
    "if condition:\n",
    "    code\n",
    "elif condition:\n",
    "    code\n",
    "else:\n",
    "    code\n",
    "``` \n",
    "Nested if statement syntax:\n",
    "```python\n",
    "if condition:\n",
    "    if condition:\n",
    "        code\n",
    "    else:\n",
    "        code\n",
    "else:\n",
    "    code\n",
    "```"
   ]
  },
  {
   "cell_type": "code",
   "execution_count": 14,
   "metadata": {},
   "outputs": [
    {
     "name": "stdout",
     "output_type": "stream",
     "text": [
      "Hello Mohamed Ismail, your course name is C++ and your country is Egypt\n",
      "Your enterted course C++ is not available\n",
      "Available courses Python and Java\n",
      "we will add more courses soon\n",
      "----------------------------------------------------------------------------------------------------\n"
     ]
    }
   ],
   "source": [
    "username = input(\"Enter your username: \").strip() # get input from user strip() method removes any whitespace from the beginning or the end\n",
    "coursename = input(\"Enter your course name: \").strip() # get input from user strip() method removes any whitespace from the beginning or the end\n",
    "Country = input(\"Enter your country: \").strip() # get input from user strip() method removes any whitespace from the beginning or the end\n",
    "is_student = input(\"Are you a student? (Yes/No): \").strip().capitalize() # get input from user strip() method removes any whitespace from the beginning or the end capitalize() method converts the first character to upper case\n",
    "print(f'Hello {username}, your course name is {coursename} and your country is {Country}') # print username, coursename and Country\n",
    "Python_Price = 3000 # Python course price\n",
    "Java_Price = 2500 # Java course price\n",
    "if is_student == \"Yes\" and coursename == \"Python\":\n",
    "    Python_Price = Python_Price - (Python_Price * 0.5) # Python course price after discount\n",
    "    print(\"for students only 50% discount\")\n",
    "    print(f'Your course price is {Python_Price}') # print Python course price after discount\n",
    "elif is_student == \"Yes\" and coursename == \"Java\":\n",
    "    Java_Price = Java_Price - (Java_Price * 0.5) # Java course price after discount\n",
    "    print(\"for students only 50% discount\")\n",
    "    print(f'Your course price is {Java_Price}') # print Java course price after discount\n",
    "elif is_student == \"No\" and coursename == \"Python\" and Country == \"Egypt\":\n",
    "    Python_Price = Python_Price - (Python_Price * 0.2) # Python course price after discount\n",
    "    print(\"for users from Egypt only 20% discount\")\n",
    "    print(f'Your course price is {Python_Price}') # print Python course price after discount\n",
    "elif is_student == \"No\" and coursename == \"Java\" and Country == \"Egypt\":\n",
    "    Java_Price = Java_Price - (Java_Price * 0.2)\n",
    "    print(\"for users from Egypt only 20% discount\")\n",
    "    print(f'Your course price is {Java_Price}') # print Java course price after discount\n",
    "elif is_student == \"No\" and coursename == \"Python\":\n",
    "    print(f'Your course price is {Python_Price}') # print Python course price\n",
    "elif is_student == \"No\" and coursename == \"Java\":\n",
    "    print(f'Your course price is {Java_Price}') # print Java course price\n",
    "else:\n",
    "    print(f\"Your enterted course {coursename} is not available\") # print Your course is not available\n",
    "    print(\"Available courses Python and Java\") # print Avaliable courses Python or Java\n",
    "    print(\"we will add more courses soon\") # print we will add more courses soon\n",
    "print(\"----------------------------------------------------------------------------------------------------\")"
   ]
  },
  {
   "attachments": {},
   "cell_type": "markdown",
   "metadata": {},
   "source": [
    " ### Ternaly Operator <a id=\"ternaly-operator\"></a>"
   ]
  },
  {
   "attachments": {},
   "cell_type": "markdown",
   "metadata": {},
   "source": [
    "1. Teranly operator is used to assign a value to a variable based on a condition.\n",
    "2. Ternary operator is written by using the assignment operator (=), a condition, the if keyword, a condition, the else keyword, and a value.\n",
    "3. Ternaly operator syntax:\n",
    "```python\n",
    "variable_name = value if condition else value\n",
    "```"
   ]
  },
  {
   "cell_type": "code",
   "execution_count": 22,
   "metadata": {},
   "outputs": [
    {
     "name": "stdout",
     "output_type": "stream",
     "text": [
      "Child ticket\n",
      "Movie ticket price is 6$\n",
      "----------------------------------------------------------------------------------------------------\n",
      "Child ticket, Movie ticket price is 6$\n",
      "----------------------------------------------------------------------------------------------------\n",
      "Child ticket\n",
      "Movie ticket price is 6$\n"
     ]
    }
   ],
   "source": [
    "# Ternary Operators\n",
    "age = int(input(\"Enter your age: \").strip()) # get input from user strip() method removes any whitespace from the beginning or the end int() method converts string to integer\n",
    "if age >= 18:\n",
    "    print(\"Adult ticket\") # print Adult ticket\n",
    "    print(\"Movie ticket price is 12$\") # print Movie ticket price is 12$\n",
    "else:\n",
    "    print(\"Child ticket\")\n",
    "    print(\"Movie ticket price is 6$\") # print Movie ticket price is 12$\n",
    "print(\"----------------------------------------------------------------------------------------------------\")\n",
    "# Ternary Operators\n",
    "age = int(input(\"Enter your age: \").strip()) # get input from user strip() method removes any whitespace from the beginning or the end int() method converts string to integer\n",
    "print(\"Adult ticket, Movie ticket price is 12$\")if age >= 18 else print(\"Child ticket, Movie ticket price is 6$\")# print Adult ticket and Movie ticket price is 12$ if age >= 18 else print Child ticket and Movie ticket price is 6$\n",
    "print(\"----------------------------------------------------------------------------------------------------\")\n",
    "\n",
    "# Ternary Operators\n",
    "age = int(input(\"Enter your age: \").strip()) # get input from user strip() method removes any whitespace from the beginning or the end int() method converts string to integer\n",
    "ticket_type = \"Adult\" if age >= 18 else \"Child\" # print Adult if age >= 18 else print Child\n",
    "ticket_price = 12 if age >= 18 else 6 # print 12 if age >= 18 else print 6\n",
    "\n",
    "print(f\"{ticket_type} ticket\") # print Adult ticket or Child ticket\n",
    "print(f\"Movie ticket price is {ticket_price}$\") # print Movie ticket price is 12$ or Movie ticket price is 6$"
   ]
  },
  {
   "attachments": {},
   "cell_type": "markdown",
   "metadata": {},
   "source": [
    "### Practical Age Full Details Advanced <a id=\"practical-age-full-details-advanced\"></a>"
   ]
  },
  {
   "cell_type": "code",
   "execution_count": 37,
   "metadata": {},
   "outputs": [
    {
     "name": "stdout",
     "output_type": "stream",
     "text": [
      "You can enter your age and choose a time unit to see your age in different units.\n",
      "Please note that for the time unit, you can write the first character or the full name.\n",
      "expect Monthes write N or Months\n",
      "You are 12,614,400 minutes old.\n",
      "----------------------------------------------------------------------------------------------------\n"
     ]
    }
   ],
   "source": [
    "# Practical Age Full Details Advanced\n",
    "print(\"You can enter your age and choose a time unit to see your age in different units.\")\n",
    "print(\"Please note that for the time unit, you can write the first character or the full name.\")\n",
    "print(\"expect Monthes write N or Months\")\n",
    "age = int(input(\"Enter your age: \").strip()) # get input from user strip() method removes any whitespace from the beginning or the end int() method converts string to integer\n",
    "time_unit = input(\"Enter your time unit (Months/Weeks/Days/Hours/Minutes/Seconds): \").strip().capitalize() # get input from user strip() method removes any whitespace from the beginning or the end capitalize() method converts the first character to upper case\n",
    "if time_unit == \"Months\" or time_unit == \"N\":\n",
    "    age = age * 12 # get age in months\n",
    "    print(f'You are {age} months old.') # print age in months\n",
    "elif time_unit == \"Weeks\" or time_unit == \"W\":\n",
    "    age = age * 52\n",
    "    print(f'You are {age:,} weeks old.') # print age in weeks\n",
    "elif time_unit == \"Days\" or time_unit == \"D\":\n",
    "    age = age * 365\n",
    "    print(f'You are {age:,} days old.') # print age in days\n",
    "elif time_unit == \"Hours\" or time_unit == \"H\":\n",
    "    age = age * 365 * 24\n",
    "    print(f'You are {age:,} hours old.') # print age in hours\n",
    "elif time_unit == \"Minutes\" or time_unit == \"M\":\n",
    "    age = age * 365 * 24 * 60\n",
    "    print(f'You are {age:,} minutes old.') # print age in minutes\n",
    "elif time_unit == \"Seconds\" or time_unit == \"S\":\n",
    "    age = age * 365 * 24 * 60 * 60\n",
    "    print(f'You are {age:,} seconds old.') # print age in seconds\n",
    "else:\n",
    "    print(\"You enterted wrong time unit\")\n",
    "print(\"----------------------------------------------------------------------------------------------------\")"
   ]
  },
  {
   "attachments": {},
   "cell_type": "markdown",
   "metadata": {},
   "source": [
    "### Membership Operators <a id=\"membership-operators\"></a>"
   ]
  },
  {
   "attachments": {},
   "cell_type": "markdown",
   "metadata": {},
   "source": [
    "1. Membership operators are used to test if a sequence is present in an object.\n",
    "2. Membership operators are written by using the in keyword and the not in keyword.\n",
    "3. Mebership operators syntax:\n",
    "```python\n",
    "if value in object:\n",
    "    code\n",
    "if value not in object:\n",
    "    code\n",
    "```\n"
   ]
  },
  {
   "cell_type": "code",
   "execution_count": 49,
   "metadata": {},
   "outputs": [
    {
     "name": "stdout",
     "output_type": "stream",
     "text": [
      "Hello, Mohamed ismail\n",
      "The course C++ is not available.\n",
      "Available courses: Python and Java.\n",
      "We will add more courses soon.\n",
      "----------------------------------------------------------------------------------------------------\n"
     ]
    }
   ],
   "source": [
    "# Membership Operators\n",
    "\n",
    "Pack_country_1 = [\"Egypt\", \"Sudan\", \"Tunisia\", \"Morocco\", \"Algeria\", \"Libya\", \"Mauritania\", \"Somalia\", \"Djibouti\", \"Comoros\"]  # list\n",
    "Pack_country_2 = [\"Usa\", \"Uk\", \"Canada\", \"Australia\", \"New Zealand\", \"Ireland\", \"France\", \"Germany\", \"Italy\", \"Spain\"]  # list\n",
    "courses = {\"Python\": 3000, \"Java\": 2500}  # dictionary\n",
    "\n",
    "name = input(\"Enter your name: \").strip().capitalize()  # get input from the user. strip() method removes any whitespace from the beginning or the end. capitalize() method converts the first character to upper case\n",
    "is_student = input(\"Are you a student? (Yes/No): \").strip().capitalize()  # get input from the user. strip() method removes any whitespace from the beginning or the end. capitalize() method converts the first character to upper case\n",
    "country = input(\"Enter your country: \").strip().capitalize()  # get input from the user. strip() method removes any whitespace from the beginning or the end. capitalize() method converts the first character to upper case\n",
    "course = input(\"Enter your course: \").strip().capitalize()  # get input from the user. strip() method removes any whitespace from the beginning or the end. capitalize() method converts the first character to upper case\n",
    "\n",
    "print(\"Hello, \" + name)  # print hello and name\n",
    "\n",
    "if is_student == \"Yes\" and course in courses:\n",
    "    discount = 0.7  # 70% discount\n",
    "    print(\"You are a student, and you will get a 70% discount on your chosen course.\")  # print You will get a 70% discount\n",
    "    print(f\"Your course is {course}\")  # print your course\n",
    "    print(f\"Your course price is {courses[course]}\")  # print your course price\n",
    "    print(f\"Your course price after discount is {courses[course] - (courses[course] * discount)}\")  # print your course price after discount\n",
    "elif is_student == \"No\" and course in courses:\n",
    "    if country in Pack_country_1:\n",
    "        discount = 0.5  # 50% discount\n",
    "        print(f\"Your country is {country}\")  # print your country\n",
    "        print(\"You will get a 50% discount on the chosen course.\")  # print You will get a 50% discount\n",
    "        print(f\"Your course is {course}\")  # print your course\n",
    "        print(f\"Your course price is {courses[course]}\")  # print your course price\n",
    "        print(f\"Your course price after discount is {courses[course] - (courses[course] * discount)}\")  # print your course price after discount\n",
    "    elif country in Pack_country_2:\n",
    "        discount = 0.2  # 20% discount\n",
    "        print(f\"Your country is {country}\")  # print your country\n",
    "        print(\"You will get a 20% discount on the chosen course.\")  # print You will get a 20% discount\n",
    "        print(f\"Your course is {course}\")  # print your course\n",
    "        print(f\"Your course price is {courses[course]}\")  # print your course price\n",
    "        print(f\"Your course price after discount is {courses[course] - (courses[course] * discount)}\")  # print your course price after discount\n",
    "    else:\n",
    "        discount = 0\n",
    "        print(f\"Your country is {country}\")\n",
    "        print(\"You will not get any discount.\")  # print You will not get any discount\n",
    "        print(f\"Your course is {course}\")  # print your course\n",
    "        print(f\"Your course price is {courses[course]}\")  # print your course price\n",
    "else:\n",
    "    print(f\"The course {course} is not available.\")  # print your course is not available\n",
    "    print(\"Available courses: Python and Java.\")  # print Available courses Python or Java\n",
    "    print(\"We will add more courses soon.\")  # print we will add more courses soon\n",
    "\n",
    "print(\"----------------------------------------------------------------------------------------------------\")\n"
   ]
  },
  {
   "cell_type": "code",
   "execution_count": 56,
   "metadata": {},
   "outputs": [
    {
     "name": "stdout",
     "output_type": "stream",
     "text": [
      "Hello Mahmoud, welcome back!\n",
      "You are an admin.\n",
      "your name is updated successfully\n",
      "['Ahmed', 'Sayed', 'Mohamed', 'Eman', 'Samah', 'Waleed', 'Noha', 'Nada', 'Sara']\n"
     ]
    }
   ],
   "source": [
    "# Mebership Operators cont.\n",
    "\n",
    "# List Contains Admins\n",
    "admins = [\"Ahmed\", \"Sayed\", \"Mahmoud\", \"Eman\", \"Samah\", \"Waleed\", \"Noha\", \"Nada\", \"Sara\"]  # list\n",
    "\n",
    "logged_in = input(\"Enter your name: \").strip().capitalize()  # get input from the user. strip() method removes any whitespace from the beginning or the end. capitalize() method converts the first character to upper case\n",
    "\n",
    "if logged_in in admins:\n",
    "    print(f\"Hello {logged_in}, welcome back!\")  # print Hello and name\n",
    "    print(\"You are an admin.\")  # print You are an admin\n",
    "    \n",
    "    option = input(\"You need Delete or update your name (Yes/No): \").strip().capitalize()  # get input from the user. strip() method removes any whitespace from the beginning or the end. capitalize() method converts the first character to upper case\n",
    "\n",
    "    if option == \"Yes\" or option == \"Y\":\n",
    "        option_1 = input(\"Delete or update your name (Delete/Update) or (D/U): \").strip().capitalize()  # get input from the user. strip() method removes any whitespace from the beginning or the end. capitalize() method converts the first character to upper case\n",
    "        if option_1 == \"Delete\" or option_1 == \"D\":\n",
    "            admins.remove(logged_in)\n",
    "            print(\"you are deleted from admins list\")\n",
    "            print(admins)\n",
    "        elif option_1 == \"Update\" or option_1 == \"U\":\n",
    "            admins[admins.index(logged_in)] = input(\"Enter your new name: \").strip().capitalize()\n",
    "            print(\"your name is updated successfully\")\n",
    "            print(admins)\n",
    "        else:\n",
    "            print(\"You enterted wrong option\")\n",
    "    elif option == \"No\" or option == \"N\":\n",
    "        print(\"Enjoy your time!\")\n",
    "    else:\n",
    "        print(\"You enterted wrong option\")\n",
    "else:\n",
    "    print(f\"Hello {logged_in}, you are not an admin.\")\n",
    "    print(\"You can not access this page Back to admins.\")\n",
    "    print(admins)\n"
   ]
  },
  {
   "attachments": {},
   "cell_type": "markdown",
   "metadata": {},
   "source": [
    "## Loops <a id=\"loops\"></a>"
   ]
  },
  {
   "attachments": {},
   "cell_type": "markdown",
   "metadata": {},
   "source": [
    "### While Loop <a id=\"while-loop\"></a>"
   ]
  },
  {
   "attachments": {},
   "cell_type": "markdown",
   "metadata": {},
   "source": [
    "1. while loop is used to execute a block of code while a condition is true.\n",
    "2. while loop is written by using the while keyword, a condition, a colon (:), and a block of code.\n",
    "3. while loop can be used to iterate over a sequence.\n",
    "4. while loop can be used to iterate over a range of numbers.\n",
    "5. while loop can be used to iterate over a string.\n",
    "6. while loop can be used to iterate over a list.\n",
    "7. and so on.\n",
    "8. whil loop syntax:\n",
    "```python\n",
    "while condition:\n",
    "    code\n",
    "```\n",
    "9. while else loop is used to execute a block of code while a condition is true and another block of code when the condition is false.\n",
    "10. while else loop is written by using the while keyword, a condition, a colon (:), a block of code, the else keyword, a colon (:), and another block of code.\n",
    "11. while else loop syntax:\n",
    "```python\n",
    "while condition:\n",
    "    code\n",
    "else:\n",
    "    code\n",
    "```\n"
   ]
  },
  {
   "cell_type": "code",
   "execution_count": 65,
   "metadata": {},
   "outputs": [
    {
     "name": "stdout",
     "output_type": "stream",
     "text": [
      "1\n",
      "2\n",
      "3\n",
      "4\n",
      "5\n",
      "i is no longer less than 6\n",
      "--------------------------------------------------\n",
      "#01.Ahmed\n",
      "#02.Sayed\n",
      "#03.Mahmoud\n",
      "#04.Eman\n",
      "#05.Samah\n",
      "#06.Waleed\n",
      "#07.Noha\n",
      "#08.Nada\n",
      "#09.Sara\n",
      "#10.Mohamed\n",
      "No more contacts\n",
      "--------------------------------------------------\n"
     ]
    }
   ],
   "source": [
    "# while loop\n",
    "\n",
    "my_contacts = [\"Ahmed\", \"Sayed\", \"Mahmoud\", \"Eman\", \"Samah\", \"Waleed\", \"Noha\", \"Nada\", \"Sara\", \"Mohamed\"] # list\n",
    "i = 0 # start from 0\n",
    "while i < len(my_contacts): # while i less than length of my_contacts\n",
    "    print(f\"#{str(i + 1).zfill(2)}.{my_contacts[i]}\") # print my_contacts with index and number of index zfill() method adds zeros (0) at the beginning of the string\n",
    "    i += 1 # increase i by 1\n",
    "else:\n",
    "    print(\"No more contacts\")\n",
    "print(\"-\" * 50) # print - 50 times"
   ]
  },
  {
   "cell_type": "code",
   "execution_count": 74,
   "metadata": {},
   "outputs": [
    {
     "name": "stdout",
     "output_type": "stream",
     "text": [
      "Max number of bookmarks is 5\n",
      "Your list of bookmarks is not empty\n",
      "['https://google.com']\n",
      "Your list length is 1\n",
      "Enjoy your time!\n"
     ]
    }
   ],
   "source": [
    "Bookmarks = [\"https://google.com\"]  # empty list\n",
    "\n",
    "# max number of bookmarks\n",
    "max_bookmarks = 5\n",
    "\n",
    "print(f\"Max number of bookmarks is {max_bookmarks}\")\n",
    "\n",
    "if len(Bookmarks) == 0:\n",
    "    print(\"Your list of bookmarks is empty\")\n",
    "    ask_0 = input(\"Do you want to add bookmarks? (Yes/No): \").strip().capitalize()\n",
    "    if ask_0 == \"Yes\" or ask_0 == \"Y\":\n",
    "        while len(Bookmarks) < max_bookmarks:\n",
    "            bookmark = input(\"Enter your bookmark: \").strip()\n",
    "            Bookmarks.append(f\"https://{bookmark.strip().lower()}.com\")\n",
    "            print(f\"Your bookmark https://{bookmark.strip().lower()}.com is added successfully\")\n",
    "            remains = max_bookmarks - len(Bookmarks)\n",
    "            if remains > 0:\n",
    "                response = input(f\"You have {remains} more {'bookmark' if remains == 1 else 'bookmarks'} remaining. Do you want to add more? (Yes/No): \").strip().capitalize()\n",
    "                if response == \"No\" or response == \"N\":\n",
    "                    break\n",
    "            else:\n",
    "                print(\"You reached the maximum number of bookmarks\")\n",
    "                break\n",
    "    elif ask_0 == \"No\" or ask_0 == \"N\":\n",
    "        print(\"Enjoy your time!\")\n",
    "else:\n",
    "    print(\"Your list of bookmarks is not empty\")\n",
    "    Bookmarks.sort()\n",
    "    print(Bookmarks)\n",
    "    ask_1 = input(\"Do you want to clear your list of bookmarks? (Yes/No): \").strip().capitalize()\n",
    "    if ask_1 == \"Yes\" or ask_1 == \"Y\":\n",
    "        Bookmarks.clear()\n",
    "        print(\"Your list of bookmarks is cleared\")\n",
    "    elif ask_1 == \"No\" or ask_1 == \"N\":\n",
    "        print(f\"Your list length is {len(Bookmarks)}\")\n",
    "        ask_2 = input(\"Do you want to add more bookmarks? (Yes/No): \").strip().capitalize()\n",
    "        if ask_2 == \"Yes\" or ask_2 == \"Y\":\n",
    "            while len(Bookmarks) < max_bookmarks:\n",
    "                bookmark = input(\"Enter your bookmark: \").strip()\n",
    "                Bookmarks.append(f\"https://{bookmark.strip().lower()}.com\")\n",
    "                print(f\"Your bookmark https://{bookmark.strip().lower()}.com is added successfully\")\n",
    "                remains = max_bookmarks - len(Bookmarks)\n",
    "                if remains > 0:\n",
    "                    response = input(f\"You have {remains} more {'bookmark' if remains == 1 else 'bookmarks'} remaining. Do you want to add more? (Yes/No): \").strip().capitalize()\n",
    "                    if response == \"No\" or response == \"N\":\n",
    "                        break\n",
    "                else:\n",
    "                    print(\"You reached the maximum number of bookmarks\")\n",
    "                    break\n",
    "        elif ask_2 == \"No\" or ask_2 == \"N\":\n",
    "            print(\"Enjoy your time!\")\n"
   ]
  },
  {
   "cell_type": "code",
   "execution_count": 77,
   "metadata": {},
   "outputs": [
    {
     "name": "stdout",
     "output_type": "stream",
     "text": [
      "Wrong password, you have 2 tries remaining\n",
      "Wrong password, you have 1 tries remaining\n",
      "Wrong password, you have 0 tries remaining\n",
      "You reached the maximum number of tries\n"
     ]
    }
   ],
   "source": [
    "# while loop cont.\n",
    "\n",
    "tries = 3 # number of tries\n",
    "\n",
    "password = \"1234\" # password\n",
    "\n",
    "input_password = input(\"Enter your password: \").strip() # get input from user strip() method removes any whitespace from the beginning or the end\n",
    "\n",
    "while input_password != password: # while input_password not equal password\n",
    "    tries -= 1 # decrease tries by 1\n",
    "    print(f\"Wrong password, you have {tries} tries remaining\") # print Wrong password, you have tries remaining\n",
    "    if tries == 0: # if tries equal 0\n",
    "        print(\"You reached the maximum number of tries\") # print You reached the maximum number of tries\n",
    "        break # break\n",
    "    input_password = input(\"Enter your password: \").strip() # get input from user strip() method removes any whitespace from the beginning or the end\n",
    "else:\n",
    "    print(\"Welcome back!\")\n"
   ]
  },
  {
   "attachments": {},
   "cell_type": "markdown",
   "metadata": {},
   "source": [
    "### For Loop <a id=\"for-loop\"></a>"
   ]
  },
  {
   "attachments": {},
   "cell_type": "markdown",
   "metadata": {},
   "source": [
    "1. for loop is used to execute a block of code for each item in a sequence.\n",
    "2. for loop is written by using the for keyword, a variable, the in keyword, a sequence, a colon (:), and a block of code.\n",
    "3. for loop can be used to iterate over a sequence.\n",
    "4. for loop can be used to iterate over a range of numbers.\n",
    "5. for loop can be used to iterate over a string.\n",
    "6. for loop can be used to iterate over a list.\n",
    "7. and so on.\n",
    "8. for loop syntax:\n",
    "```python\n",
    "for variable in sequence:\n",
    "    code\n",
    "```\n",
    "9. for else loop is used to execute a block of code for each item in a sequence and another block of code when the sequence is empty.\n",
    "10. for else loop is written by using the for keyword, a variable, the in keyword, a sequence, a colon (:), a block of code, the else keyword, a colon (:), and another block of code.\n",
    "11. for else loop syntax:\n",
    "```python\n",
    "for variable in sequence:\n",
    "    code\n",
    "else:\n",
    "    code\n",
    "```"
   ]
  },
  {
   "cell_type": "code",
   "execution_count": 86,
   "metadata": {},
   "outputs": [
    {
     "name": "stdout",
     "output_type": "stream",
     "text": [
      "Your skills and progress are: {'C': 80, 'Python': 90, 'Java': 40, 'C++': 70}\n",
      "I am good at C\n",
      "I am good at Python\n",
      "I am bad at Java\n",
      "I am medium at C++\n",
      "--------------------------------------------------\n"
     ]
    }
   ],
   "source": [
    "skills = {\n",
    "    \"C\": 80,\n",
    "    \"Python\": 90,\n",
    "    \"Java\": 40,\n",
    "    \"C++\": 70\n",
    "}  # dictionary\n",
    "\n",
    "print(f\"Your skills and progress are: {skills}\")  # print dictionary\n",
    "\n",
    "response = input(\"Do you want to update your skills? (Yes/No): \").strip().capitalize()  # get input from the user. strip() method removes any whitespace from the beginning or the end. capitalize() method converts the first character to upper case\n",
    "\n",
    "if response == \"Yes\" or response == \"Y\":  # if response is Yes or Y\n",
    "    add_skill = input(\"Enter your skill: \").strip().capitalize()  # get input from the user. strip() method removes any whitespace from the beginning or the end. capitalize() method converts the first character to upper case\n",
    "    add_progress = int(input(\"Enter your progress (0-100): \"))  # get input from the user and convert it to an integer\n",
    "    skills[add_skill] = add_progress  # add the new skill and progress to the dictionary\n",
    "    print(f\"Your skills and progress are: {skills}\")  # print dictionary\n",
    "\n",
    "elif response == \"No\" or response == \"N\":  # if response is No or N\n",
    "    for skill, progress in skills.items():  # iterate over the skills dictionary using items()\n",
    "        if progress >= 80:\n",
    "            print(f\"I am good at {skill}\")\n",
    "        elif progress >= 50:\n",
    "            print(f\"I am medium at {skill}\")\n",
    "        else:\n",
    "            print(f\"I am bad at {skill}\")\n",
    "\n",
    "print(\"-\" * 50)  # print \"-\" 50 times\n"
   ]
  },
  {
   "attachments": {},
   "cell_type": "markdown",
   "metadata": {},
   "source": [
    "#### For Nested Loop <a id=\"for-nested-loop\"></a>"
   ]
  },
  {
   "attachments": {},
   "cell_type": "markdown",
   "metadata": {},
   "source": [
    "1. Nested loops are used to execute a block of code inside another block of code.\n",
    "2. Nested loops are written by using the for keyword, a variable, the in keyword, a sequence, a colon (:), a block of code, the for keyword, a variable, the in keyword, a sequence, a colon (:), and another block of code.\n",
    "3. For nested loop syntax:\n",
    "```python\n",
    "for variable in sequence:\n",
    "    code\n",
    "    for variable in sequence:\n",
    "        code\n",
    "```"
   ]
  },
  {
   "cell_type": "code",
   "execution_count": 87,
   "metadata": {},
   "outputs": [
    {
     "name": "stdout",
     "output_type": "stream",
     "text": [
      "Employee name is Ahmed\n",
      "Employee skill is Python\n",
      "Employee skill is SQL\n",
      "Employee skill is C++\n",
      "Employee salary is 8000\n",
      "--------------------------------------------------\n",
      "Employee name is Sayed\n",
      "Employee skill is Python\n",
      "Employee skill is Java\n",
      "Employee skill is C++\n",
      "Employee salary is 7000\n",
      "--------------------------------------------------\n",
      "Employee name is Mahmoud\n",
      "Employee skill is Html\n",
      "Employee skill is CSS\n",
      "Employee skill is JavaScript\n",
      "Employee salary is 6000\n",
      "--------------------------------------------------\n"
     ]
    }
   ],
   "source": [
    "# Nested Loops\n",
    "\n",
    "employees = {\n",
    "    \"Ahmed\": { # dictionary\n",
    "        \"skills\": [\"Python\", \"SQL\", \"C++\"], # list\n",
    "        \"salary\": 8000 # int\n",
    "    },\n",
    "    \"Sayed\": { # dictionary\n",
    "        \"skills\": [\"Python\", \"Java\", \"C++\"], # list\n",
    "        \"salary\": 7000 # int\n",
    "    },\n",
    "    \"Mahmoud\": { # dictionary\n",
    "        \"skills\": [\"Html\", \"CSS\", \"JavaScript\"], # list\n",
    "        \"salary\": 6000 # int\n",
    "    },\n",
    "}\n",
    "\n",
    "for employee, employee_data in employees.items(): # iterate over the employees dictionary using items()\n",
    "    print(f\"Employee name is {employee}\") # print Employee name is and employee\n",
    "    for skill in employee_data[\"skills\"]: # iterate over the employee_data dictionary using skills key\n",
    "        print(f\"Employee skill is {skill}\") # print Employee skill is and skill\n",
    "    print(f\"Employee salary is {employee_data['salary']}\") # print Employee salary is and salary\n",
    "    print(\"-\" * 50) # print \"-\" 50 times"
   ]
  },
  {
   "attachments": {},
   "cell_type": "markdown",
   "metadata": {},
   "source": [
    "## Break, Continue, and Pass <a id=\"break-continue-and-pass\"></a>"
   ]
  },
  {
   "attachments": {},
   "cell_type": "markdown",
   "metadata": {},
   "source": [
    "1. break statement is used to stop a loop from executing.\n",
    "2. continue statement is used to stop the current iteration of a loop and continue with the next iteration.\n",
    "3. pass statement is used to do nothing.\n",
    "4. example:\n",
    "```python\n",
    "for variable in sequence:\n",
    "    if condition:\n",
    "        break\n",
    "    if condition:\n",
    "        continue\n",
    "    if condition:\n",
    "        pass\n",
    "```\n"
   ]
  },
  {
   "cell_type": "code",
   "execution_count": 90,
   "metadata": {},
   "outputs": [
    {
     "name": "stdout",
     "output_type": "stream",
     "text": [
      "1\n",
      "2\n",
      "3\n",
      "4\n",
      "6\n",
      "7\n",
      "8\n",
      "9\n",
      "10\n",
      "--------------------------------------------------\n",
      "1\n",
      "2\n",
      "3\n",
      "4\n",
      "--------------------------------------------------\n",
      "1\n",
      "2\n",
      "3\n",
      "4\n",
      "5\n",
      "6\n",
      "7\n",
      "8\n",
      "9\n",
      "10\n",
      "--------------------------------------------------\n"
     ]
    }
   ],
   "source": [
    "# Continue Statement\n",
    "\n",
    "for number in range(1, 11): # iterate over the range from 1 to 11\n",
    "    if number == 5: # if number equal 5\n",
    "        continue # continue\n",
    "    print(number) # print number\n",
    "print(\"-\" * 50) # print \"-\" 50 times\n",
    "\n",
    "# Break Statement\n",
    "\n",
    "for number in range(1, 11): # iterate over the range from 1 to 11\n",
    "    if number == 5: # if number equal 5\n",
    "        break # break\n",
    "    print(number) # print number\n",
    "print(\"-\" * 50) # print \"-\" 50 times\n",
    "\n",
    "# Pass Statement\n",
    "\n",
    "for number in range(1, 11): # iterate over the range from 1 to 11\n",
    "    if number == 5: # if number equal 5\n",
    "        pass # pass\n",
    "    print(number) # print number\n",
    "print(\"-\" * 50) # print \"-\" 50 times"
   ]
  },
  {
   "attachments": {},
   "cell_type": "markdown",
   "metadata": {},
   "source": [
    "## Functions <a id=\"functions\"></a>"
   ]
  },
  {
   "attachments": {},
   "cell_type": "markdown",
   "metadata": {},
   "source": [
    "1. Functions are used to perform a specific task.\n",
    "2. Function is A block of code that runs when it is called.\n",
    "3. Function is A Reusable block of code that performs a specific task.\n",
    "4. Function accepts arguments and returns a value.\n",
    "5. Function is written by using the def keyword, a function name, parentheses (), parameters, a colon (:), and a block of code.\n",
    "6. Function Accept elements to deal with called parameters.\n",
    "7. Function create to prevent code duplication.\n",
    "8. DRY (Don't Repeat Yourself).\n",
    "9. Difference between parameters and arguments is parameters are variables used to store arguments and arguments are values passed to function.\n",
    "10. Bulit-in functions are functions that come with Python.\n",
    "11. Function syntax:\n",
    "```python\n",
    "def function_name(parameter1, parameter2, parameter3):\n",
    "    code\n",
    "    return value\n",
    "```\n",
    "12. Function call syntax:\n",
    "```python\n",
    "function_name(argument1, argument2, argument3)\n",
    "```\n"
   ]
  },
  {
   "cell_type": "code",
   "execution_count": 100,
   "metadata": {},
   "outputs": [
    {
     "name": "stdout",
     "output_type": "stream",
     "text": [
      "Hello, Ahmed\n",
      "8\n",
      "8\n",
      "8\n",
      "2\n",
      "15\n",
      "1.6666666666666667\n",
      "Please enter a valid operation\n"
     ]
    }
   ],
   "source": [
    "# Functions\n",
    "\n",
    "## Parameters and Arguments\n",
    "\n",
    "### def => define function\n",
    "### say_hello => function name\n",
    "### name => parameter\n",
    "### Print(f\"Hello, {name}\") => function body or task\n",
    "### \"Ahmed\" => argument\n",
    "\n",
    "\n",
    "def say_hello(name): # function\n",
    "    print(f\"Hello, {name}\") # print Hello, and name\n",
    "say_hello(\"Ahmed\") # call function\n",
    "# --------------------------------------------------------------------------------\n",
    "def add (x, y): # function\n",
    "    print(x + y) # print x + y\n",
    "add(5, 3) # call function\n",
    "# --------------------------------------------------------------------------------\n",
    "\n",
    "# Return Statement\n",
    "\n",
    "def add (x, y): # function\n",
    "    return x + y # return x + y\n",
    "print(add(5, 3)) # call function\n",
    "# --------------------------------------------------------------------------------\n",
    "\n",
    "# Calculator\n",
    "\n",
    "def calculator(num1, num2, operation): # function\n",
    "    if operation == \"+\": # if operation equal +\n",
    "        return num1 + num2 # return num1 + num2\n",
    "    elif operation == \"-\": # if operation equal -\n",
    "        return num1 - num2 # return num1 - num2\n",
    "    elif operation == \"*\": # if operation equal *\n",
    "        return num1 * num2 # return num1 * num2\n",
    "    elif operation == \"/\": # if operation equal /\n",
    "        return num1 / num2 # return num1 / num2\n",
    "    else: # else\n",
    "        return \"Please enter a valid operation\" # return Please enter a valid operation\n",
    "print(calculator(5, 3, \"+\")) # call function\n",
    "print(calculator(5, 3, \"-\")) # call function\n",
    "print(calculator(5, 3, \"*\")) # call function\n",
    "print(calculator(5, 3, \"/\")) # call function\n",
    "print(calculator(5, 3, \"a\")) # call function\n"
   ]
  },
  {
   "cell_type": "markdown",
   "metadata": {},
   "source": [
    "### Function Packing, Unpacking Arguments <a id=\"function-packing-unpacking-arguments\"></a>"
   ]
  },
  {
   "cell_type": "markdown",
   "metadata": {},
   "source": [
    "1. Packing arguments is used to pass a variable number of arguments to a function.\n",
    "2. Packing arguments is written by using the * operator before the parameter name.\n",
    "3. Packing arguments syntax:\n",
    "```python\n",
    "def function_name(*parameter):\n",
    "    code\n",
    "```\n",
    "4. unpacking arguments is used to pass a list of arguments to a function.\n",
    "5. unpacking arguments is written by using the * operator before the list name.\n",
    "6. unpacking arguments syntax:\n",
    "```python\n",
    "function_name(*list_name)\n",
    "```\n"
   ]
  },
  {
   "cell_type": "code",
   "execution_count": 3,
   "metadata": {},
   "outputs": [
    {
     "name": "stdout",
     "output_type": "stream",
     "text": [
      "Hello, Ahmed\n",
      "Hello, Sayed\n",
      "Hello, Mahmoud\n",
      "----------------------------------------------------------------------------------------------------\n",
      "Hello, Ahmed\n",
      "Hello, Sayed\n",
      "Hello, Mahmoud\n",
      "Hello, Mohamed\n"
     ]
    }
   ],
   "source": [
    "# Function Packing, Unpacking Arguments\n",
    "def say_hello(emp1, emp2, emp3): # function\n",
    "    employees = [emp1, emp2, emp3] # list\n",
    "    for employee in employees: # iterate over the employees list\n",
    "        print(f\"Hello, {employee}\") # print Hello, and employee\n",
    "say_hello(\"Ahmed\", \"Sayed\", \"Mahmoud\") # call function\n",
    "# say_hello(\"Ahmed\", \"Sayed\") # error because the function takes 3 arguments and we only passed 2 arguments to it so we need to use *args to solve this problem \n",
    "# and we can pass any number of arguments to the function without knowing the number of arguments that will be passed to the function.\n",
    "print(\"-\" * 100) # print \"-\" 100 times\n",
    "#--------------------------------------------------------------------------------\n",
    "def say_hello(*employees): # function\n",
    "    for employee in employees: # iterate over the employees list\n",
    "        print(f\"Hello, {employee}\") # print Hello, and employee\n",
    "say_hello(\"Ahmed\", \"Sayed\", \"Mahmoud\", \"Mohamed\") # call function\n",
    "# Now we can pass any number of arguments to the function without knowing the number of arguments that will be passed to the function.\n",
    "# --------------------------------------------------------------------------------"
   ]
  },
  {
   "cell_type": "code",
   "execution_count": 5,
   "metadata": {},
   "outputs": [
    {
     "name": "stdout",
     "output_type": "stream",
     "text": [
      "Hello, Ahmed\n",
      "Your skills are: ('Python', 'Java', 'C++')\n",
      "Hello, Mohamed\n",
      "Your skills are: ('Python', 'Java', 'C++', 'SQL')\n"
     ]
    }
   ],
   "source": [
    "# Function Packing, Unpacking Arguments cont.\n",
    "\n",
    "def empolyee_data(name, *skills): # function\n",
    "    print(f\"Hello, {name}\") # print Hello, and name\n",
    "    print(f\"Your skills are: {skills}\") # print Your skills are: and skills\n",
    "\n",
    "empolyee_data(\"Ahmed\", \"Python\", \"Java\", \"C++\") # call function\n",
    "empolyee_data(\"Mohamed\", \"Python\", \"Java\", \"C++\", \"SQL\") # call function"
   ]
  },
  {
   "cell_type": "markdown",
   "metadata": {},
   "source": [
    "### Function Default Parameters <a id=\"function-default-parameters\"></a>"
   ]
  },
  {
   "cell_type": "markdown",
   "metadata": {},
   "source": [
    "1. Default parameters are used to set default values for parameters.\n",
    "2. Default parameters are written by using the = operator after the parameter name.\n",
    "3. Default parameters syntax:\n",
    "```python\n",
    "def function_name(parameter1, parameter2 = value):\n",
    "    code\n",
    "```\n",
    "4. should be at the end of parameters."
   ]
  },
  {
   "cell_type": "code",
   "execution_count": 10,
   "metadata": {},
   "outputs": [
    {
     "name": "stdout",
     "output_type": "stream",
     "text": [
      "----------------------------------------------------------------------------------------------------\n",
      "Hello, Ahmed\n",
      "Your country is: Egypt\n",
      "Hello, Mohamed\n",
      "Your country is: Unknown\n"
     ]
    }
   ],
   "source": [
    "# Function Default Parameters\n",
    "def empolyee_data(name, country): # function\n",
    "    print(f\"Hello, {name}\") # print Hello, and name\n",
    "    print(f\"Your country is: {country}\") # print Your country is: and country\n",
    "\n",
    "# empolyee_data(\"Ahmed\")  error because the function takes 2 arguments and we only passed 1 argument to it so we need to use default parameters to solve this problem.\n",
    "# --------------------------------------------------------------------------------\n",
    "print(\"-\" * 100) # print \"-\" 100 times\n",
    "# --------------------------------------------------------------------------------\n",
    "def empolyee_data(name, country = \"Unknown\"): # function\n",
    "    print(f\"Hello, {name}\") # print Hello, and name\n",
    "    print(f\"Your country is: {country}\") # print Your country is: and country\n",
    "\n",
    "empolyee_data(\"Ahmed\", \"Egypt\") # call function\n",
    "empolyee_data(\"Mohamed\") # call function\n"
   ]
  },
  {
   "cell_type": "markdown",
   "metadata": {},
   "source": [
    "### Function Packing Unpacking Keyword Arguments <a id=\"function-packing-unpacking-keyword-arguments\"></a>"
   ]
  },
  {
   "cell_type": "markdown",
   "metadata": {},
   "source": [
    "1. Packing keyword arguments is used to pass a variable number of keyword arguments to a function.\n",
    "2. Packing keyword arguments is written by using the ** operator before the parameter name.\n",
    "3. Packing keyword arguments syntax:\n",
    "```python\n",
    "def function_name(**parameter):\n",
    "    code\n",
    "```\n",
    "4. unpacking keyword arguments is used to pass a dictionary of keyword arguments to a function.\n",
    "5. unpacking keyword arguments is written by using the ** operator before the dictionary name.\n",
    "6. unpacking keyword arguments syntax:\n",
    "```python\n",
    "function_name(**dictionary_name)\n",
    "```\n",
    "7. should be at the end of parameters.\n",
    "8. * and ** can be used together.\n",
    "9. * is tuple and ** is dictionary."
   ]
  },
  {
   "cell_type": "code",
   "execution_count": 16,
   "metadata": {},
   "outputs": [
    {
     "name": "stdout",
     "output_type": "stream",
     "text": [
      "Your skill is Python and your progress is 80\n",
      "Your skill is Java and your progress is 70\n",
      "Your skill is C and your progress is 60\n",
      "Your skill is CPP and your progress is 50\n",
      "----------------------------------------------------------------------------------------------------\n",
      "{'Python': 80, 'Java': 70, 'C': 60, 'C++': 50}\n",
      "Your skill is Python and your progress is 80\n",
      "Your skill is Java and your progress is 70\n",
      "Your skill is C and your progress is 60\n",
      "Your skill is C++ and your progress is 50\n"
     ]
    }
   ],
   "source": [
    "# Function Packing Unpacking Keyword Arguments\n",
    "\n",
    "def show_skills(**skills): # function\n",
    "    for sikll, progress in skills.items():\n",
    "        print(f\"Your skill is {sikll} and your progress is {progress}\")\n",
    "\n",
    "show_skills(Python = 80, Java = 70, C = 60, CPP = 50) # call function\n",
    "\n",
    "# --------------------------------------------------------------------------------\n",
    "print(\"-\" * 100) # print \"-\" 100 times\n",
    "# --------------------------------------------------------------------------------\n",
    "\n",
    "# Function Packing Unpacking Keyword Arguments cont.\n",
    "\n",
    "skills = { # dictionary\n",
    "    \"Python\": 80,\n",
    "    \"Java\": 70,\n",
    "    \"C\": 60,\n",
    "    \"C++\": 50\n",
    "}\n",
    "\n",
    "def show_skills(**skills): # function\n",
    "    for sikll, progress in skills.items():\n",
    "        print(f\"Your skill is {sikll} and your progress is {progress}\")\n",
    "\n",
    "print(skills) # print dictionary skills\n",
    "show_skills(**skills) # call function and unpacking skills dictionary using ** operator to pass the dictionary as keyword arguments to the function show_skills()\n",
    "# instead of passing it as a positional argument.\n",
    "\n"
   ]
  },
  {
   "cell_type": "code",
   "execution_count": 23,
   "metadata": {},
   "outputs": [
    {
     "name": "stdout",
     "output_type": "stream",
     "text": [
      "Hello, Ahmed! Skills without progress are:\n",
      "Your skill is: Python\n",
      "Your skill is: Java\n",
      "Your skill is: C++\n",
      "----------------------------------------------------------------------------------------------------\n",
      "Skills with progress are:\n",
      "Your skill is Flutter and your progress is 80\n",
      "Your skill is Javascript and your progress is 70\n",
      "Your skill is C and your progress is 60\n",
      "Your skill is Html and your progress is 50\n",
      "----------------------------------------------------------------------------------------------------\n",
      "Hello, Ahmed! Skills without progress are:\n",
      "Your skill is: Python\n",
      "Your skill is: Java\n",
      "Your skill is: C++\n",
      "----------------------------------------------------------------------------------------------------\n",
      "Skills with progress are:\n",
      "Your skill is Flutter and your progress is 80\n",
      "Your skill is Javascript and your progress is 70\n",
      "Your skill is C and your progress is 60\n",
      "Your skill is Html and your progress is 50\n"
     ]
    }
   ],
   "source": [
    "# --------------------------------------------------------------------------------\n",
    "# Function Packing Unpacking Arguments Training's\n",
    "# --------------------------------------------------------------------------------\n",
    "\n",
    "# employee_data - takes name, skills and progress as arguments and print them out in a formatted way using for loop and unpacking arguments using * operator. \n",
    "# The function should print the name first then the skills and progress.\n",
    "\n",
    "def employee_data(name, *skills, **progress):\n",
    "    print(f\"Hello, {name}! Skills without progress are:\")\n",
    "    for skill in skills:\n",
    "        print(f\"Your skill is: {skill}\")\n",
    "    print(\"-\" * 100) # print \"-\" 100 times\n",
    "    print(\"Skills with progress are:\")\n",
    "    for skill, prog in progress.items():\n",
    "        print(f\"Your skill is {skill} and your progress is {prog}\")\n",
    "\n",
    "employee_data(\"Ahmed\", \"Python\", \"Java\", \"C++\", Flutter=80, Javascript=70, C=60, Html=50)\n",
    "# --------------------------------------------------------------------------------\n",
    "print(\"-\" * 100) # print \"-\" 100 times\n",
    "# --------------------------------------------------------------------------------\n",
    "nonprogrees_skills = [\"Python\", \"Java\", \"C++\"]\n",
    "progrees_skills = {\n",
    "    \"Flutter\": 80,\n",
    "    \"Javascript\": 70,\n",
    "    \"C\": 60,\n",
    "    \"Html\": 50\n",
    "}\n",
    "\n",
    "employee_data(\"Ahmed\", *nonprogrees_skills, **progrees_skills)"
   ]
  },
  {
   "cell_type": "markdown",
   "metadata": {},
   "source": [
    "### Function Scope <a id=\"function-scope\"></a>"
   ]
  },
  {
   "cell_type": "markdown",
   "metadata": {},
   "source": [
    "1. Scope is the part of the program where a variable is accessible.\n",
    "2. Global scope is the part of the program where a variable is accessible everywhere.\n",
    "3. Local scope is the part of the program where a variable is accessible only inside a function.\n",
    "4. Global variables are variables that are created outside of a function.\n",
    "5. Global variables can be used by any function.\n",
    "6. Global variables can be used inside a function.\n",
    "7. Global variables can be used outside a function.\n",
    "8. Local variables are variables that are created inside a function.\n",
    "9. Local variables can only be used inside a function.\n",
    "10. Local variables cannot be used outside a function.\n",
    "11. Local variables cannot be used inside another function.\n",
    "12. Local variables cannot be used inside a loop.\n",
    "13. Global scope syntax:\n",
    "```python\n",
    "variable_name = value\n",
    "def function_name():\n",
    "    code\n",
    "```\n",
    "14. Local scope syntax:\n",
    "```python\n",
    "def function_name():\n",
    "    variable_name = value\n",
    "    code\n",
    "```"
   ]
  },
  {
   "cell_type": "code",
   "execution_count": 39,
   "metadata": {},
   "outputs": [
    {
     "name": "stdout",
     "output_type": "stream",
     "text": [
      "The value of X inside function: 5\n",
      "The value of X outside function: 5\n",
      "----------------------------------------------------------------------------------------------------\n",
      "The value of Y inside function: 10\n",
      "----------------------------------------------------------------------------------------------------\n",
      "The value of Z inside function: 15\n",
      "The value of Z outside function: 15\n",
      "----------------------------------------------------------------------------------------------------\n"
     ]
    }
   ],
   "source": [
    "# Function Scope\n",
    "\n",
    "# Global Scope\n",
    "x = 5 # global variable\n",
    "def print_x():\n",
    "    print(f\"The value of X inside function: {x}\") # print The value of X inside function: and x\n",
    "print_x() # call function\n",
    "print(f\"The value of X outside function: {x}\") # print The value of X outside function: and x\n",
    "# --------------------------------------------------------------------------------\n",
    "print(\"-\" * 100) # print \"-\" 100 times\n",
    "# --------------------------------------------------------------------------------\n",
    "# Local Scope\n",
    "def print_y():\n",
    "    y = 10 # local variable\n",
    "    print(f\"The value of Y inside function: {y}\") # print The value of Y inside function: and y\n",
    "print_y() # call function\n",
    "# print(f\"The value of Y outside function: {y}\")  error because y is local variable and we can not access it outside the function\n",
    "# to solve this problem we can use global keyword to access local variable outside the function as global variable\n",
    "# --------------------------------------------------------------------------------\n",
    "print(\"-\" * 100) # print \"-\" 100 times\n",
    "# --------------------------------------------------------------------------------\n",
    "# Global Keyword\n",
    "def print_z():\n",
    "    global z # global keyword\n",
    "    z = 15 # global variable\n",
    "    print(f\"The value of Z inside function: {z}\") # print The value of Z inside function: and z\n",
    "print_z() # call function\n",
    "print(f\"The value of Z outside function: {z}\") # print The value of Z outside function: and z\n",
    "# --------------------------------------------------------------------------------\n",
    "print(\"-\" * 100) # print \"-\" 100 times\n",
    "# --------------------------------------------------------------------------------\n"
   ]
  },
  {
   "cell_type": "markdown",
   "metadata": {},
   "source": [
    "### Function Recursion <a id=\"function-recursion\"></a>"
   ]
  },
  {
   "cell_type": "markdown",
   "metadata": {},
   "source": [
    "1. Recursion is the process of calling a function inside itself.\n",
    "2. Recursion is used to solve problems that can be broken down into smaller problems of the same type.\n",
    "3. Recursion is written by using the return keyword and the function name.\n",
    "4. Recursion syntax:\n",
    "```python\n",
    "def function_name():\n",
    "    code\n",
    "    return function_name()\n",
    "```\n"
   ]
  },
  {
   "cell_type": "markdown",
   "metadata": {},
   "source": [
    "#"
   ]
  },
  {
   "cell_type": "code",
   "execution_count": 56,
   "metadata": {},
   "outputs": [
    {
     "name": "stdout",
     "output_type": "stream",
     "text": [
      "Cleaned word: World\n",
      "Count of repeated letters: 10\n"
     ]
    }
   ],
   "source": [
    "# Function Recursion\n",
    "# Clean word from repeated letters using recursion function and return the clean word and the number of repeated letters. \n",
    "# For example, if the word is \"WWWWorrrrrlllld\" the function should return \"world\" and 10.\n",
    "\n",
    "def clean_word(word):\n",
    "    if len(word) <= 1: # if length of word less than or equal 1 return word and 0 \n",
    "        return word, 0 # return word and 0 \n",
    "\n",
    "    cleaned_word, count = clean_word(word[1:]) # recursion function and return cleaned_word and count \n",
    "    if word[0] == word[1]: # if first letter of word equal second letter of word \n",
    "        count += 1 # increase count by 1 \n",
    "    else:   \n",
    "        cleaned_word = word[0] + cleaned_word # cleaned_word equal first letter of word + cleaned_word \n",
    "    \n",
    "    return cleaned_word, count # return cleaned_word and count \n",
    "\n",
    "word = \"WWWWorrrrrlllld\"\n",
    "cleaned_word, count = clean_word(word)\n",
    "print(f\"Cleaned word: {cleaned_word}\")\n",
    "print(f\"Count of repeated letters: {count}\")\n",
    "\n"
   ]
  },
  {
   "cell_type": "markdown",
   "metadata": {},
   "source": [
    "### Lambda Functions or Anonymous Functions <a id=\"lambda-functions-or-anonymous-functions\"></a>"
   ]
  },
  {
   "cell_type": "markdown",
   "metadata": {},
   "source": [
    "1. Lambda functions are used to create anonymous functions (functions without names).\n",
    "2. Lambda functions are written by using the lambda keyword, parameters, a colon (:), and an expression.\n",
    "3. Lambda functions can take any number of arguments.\n",
    "4. Lambda functions can have any number of parameters.\n",
    "5. Lambda functions can have any number of expressions.\n",
    "6. Lambda functions can have any number of return values.\n",
    "7. Lambda functions can be assigned to variables.\n",
    "8. Lambda functions can be used as arguments.\n",
    "9. Lambda syntax:\n",
    "```python\n",
    "lambda parameters: expression\n",
    "```"
   ]
  },
  {
   "cell_type": "code",
   "execution_count": 58,
   "metadata": {},
   "outputs": [
    {
     "name": "stdout",
     "output_type": "stream",
     "text": [
      "By using def: 8\n",
      "----------------------------------------------------------------------------------------------------\n",
      "By using lambda function: 8\n",
      "----------------------------------------------------------------------------------------------------\n",
      "By using lambda function: 8\n",
      "By using lambda function: 2\n",
      "By using lambda function: 15\n",
      "By using lambda function: 1.6666666666666667\n"
     ]
    }
   ],
   "source": [
    "# lambda function examples\n",
    "\n",
    "# def function to add two numbers\n",
    "def add(x, y):\n",
    "    return x + y\n",
    "print(f\"By using def: {add(5, 3)}\")\n",
    "\n",
    "# --------------------------------------------------------------------------------\n",
    "print(\"-\" * 100) # print \"-\" 100 times\n",
    "# --------------------------------------------------------------------------------\n",
    "\n",
    "# lambda function to add two numbers\n",
    "add_l = lambda x, y: x + y\n",
    "print(f\"By using lambda function: {add_l(5, 3)}\")\n",
    "\n",
    "# --------------------------------------------------------------------------------\n",
    "print(\"-\" * 100) # print \"-\" 100 times\n",
    "# --------------------------------------------------------------------------------\n",
    "\n",
    "# calculator using lambda function\n",
    "calculator = { # dictionary \n",
    "    \"+\": lambda x, y: x + y,\n",
    "    \"-\": lambda x, y: x - y,\n",
    "    \"*\": lambda x, y: x * y,\n",
    "    \"/\": lambda x, y: x / y\n",
    "}\n",
    "\n",
    "print(f\"By using lambda function: {calculator['+'](5, 3)}\") # call lambda function from dictionary by key and pass two numbers  5 and 3 as arguments to the function.\n",
    "print(f\"By using lambda function: {calculator['-'](5, 3)}\")\n",
    "print(f\"By using lambda function: {calculator['*'](5, 3)}\")\n",
    "print(f\"By using lambda function: {calculator['/'](5, 3)}\")\n"
   ]
  },
  {
   "cell_type": "markdown",
   "metadata": {},
   "source": [
    "## File Handling <a id=\"file-handling\"></a>"
   ]
  },
  {
   "cell_type": "markdown",
   "metadata": {},
   "source": [
    "1. File handling is used to read and write files.\n",
    "2. File handling is written by using the open() function, a file name, a mode, and a colon (:).\n",
    "3. File handling is written by using the open() function, a file name, a mode, a colon (:), and a block of code.\n",
    "4. File handling is written by using the open() function, a file name, a mode, a colon (:), a block of code, and the close() function.\n",
    "5. modes are r, w, a, x, t, b, +.\n",
    "6. r is used to read a file.\n",
    "7. w is used to write to a file.\n",
    "8. a is used to append to a file.\n",
    "9. x is used to create a file.\n",
    "10. t is used to open a file in text mode.\n",
    "11. b is used to open a file in binary mode.\n",
    "12. + is used to open a file for reading and writing.\n",
    "13. File handling syntax:\n",
    "```python\n",
    "file_name = open(\"file_name\", \"mode\")\n",
    "file_name = open(\"file_name\", \"mode\")\n",
    "    code\n",
    "file_name.close()\n",
    "```\n",
    "14. Absolute path is the full path to a file.\n",
    "15. relative path is the path to a file relative to the current working directory.\n",
    "16. current working directory is the directory from which the script is running.\n",
    "17. OS module is used to work with files and directories.\n",
    "18. OS module is written by using the import keyword and the os keyword. \n",
    "19. OS module syntax:\n",
    "```python\n",
    "import os\n",
    "```\n",
    "20. getcwd() is used to get the current working directory path as a string value from the OS module and the os keyword and the getcwd() function and the parentheses ().\n",
    "21. path.abspath() is used to get the absolute path of a file as a string value from the OS module and the os keyword and the path keyword and the abspath() function and the parentheses ().\n",
    "22. path.dirname() is used to get the directory name of a file as a string value from the OS module and the os keyword and the path keyword and the dirname() function and the parentheses ().\n",
    "23. chdir() is used to change the current working directory path as a string value from the OS module and the os keyword and the chdir() function and the parentheses ().\n",
    "24. truncate() is used to truncate a file as a string value from the OS module and the os keyword and the truncate() function and the parentheses ().\n",
    "25. seek() is used to change the position of the file pointer as a string value from the OS module and the os keyword and the seek() function and the parentheses ().\n",
    "26. os.remove() is used to remove a file as a string value from the OS module and the os keyword and the remove() function and the parentheses ()."
   ]
  },
  {
   "cell_type": "code",
   "execution_count": 72,
   "metadata": {},
   "outputs": [
    {
     "name": "stdout",
     "output_type": "stream",
     "text": [
      "/home/mohamedismail/Documents/ML-DS-ResourceHub/Python\n",
      "/home/mohamedismail/Documents/ML-DS-ResourceHub/Python/Handling_files.txt\n",
      "/home/mohamedismail/Documents/ML-DS-ResourceHub/Python\n",
      "None\n"
     ]
    }
   ],
   "source": [
    "# File Handling --> open\n",
    "\n",
    "# Open File By using absolute path\n",
    "file = open(\"Handling_files.txt\") # open file Handling_files.txt\n",
    "\n",
    "# File Handing \n",
    "# absolute path => /home/mohamedismail/Documents/ML-DS-ResourceHub/Python/Handling_files.txt\n",
    "# relative path => Handling_files.txt\n",
    "# getcwd() => Current Working Directory => /home/mohamedismail/Documents/ML-DS-ResourceHub/Python\n",
    "# abspath() => Absolute Path => /home/mohamedismail/Documents/ML-DS-ResourceHub/python/Handling_files.txt\n",
    "# dirname() => Directory Name => /home/mohamedismail/Documents/ML-DS-ResourceHub/python\n",
    "# chdir() => Change Directory => /home/mohamedismail/Documents/ML-DS-ResourceHub/Edabit\n",
    "\n",
    "\n",
    "import os # import os module\n",
    "print(os.getcwd()) # print current working directory\n",
    "print(os.path.abspath(\"Handling_files.txt\")) # print absolute path of Handling_files.txt\n",
    "print(os.path.dirname(os.path.abspath(\"Handling_files.txt\"))) # print directory name of Handling_files.txt\n",
    "print(os.chdir(\"//home//mohamedismail//Documents//ML-DS-ResourceHub/Python\")) # change current working directory to Desktop"
   ]
  },
  {
   "cell_type": "code",
   "execution_count": 83,
   "metadata": {},
   "outputs": [
    {
     "name": "stdout",
     "output_type": "stream",
     "text": [
      "<_io.TextIOWrapper name='Handling_files.txt' mode='r' encoding='UTF-8'>\n",
      "Hello, This is Handling file lesson.\n",
      "This is second line\n",
      "\n",
      "\n",
      "[]\n",
      "<class 'list'>\n"
     ]
    }
   ],
   "source": [
    "# File Handling cont.\n",
    "# File handling --> read\n",
    "\n",
    "file = open(\"Handling_files.txt\", \"r\") # open file Handling_files.txt\n",
    "print(file) # print file object <_io.TextIOWrapper name='Handling_files.txt' mode='r' encoding='UTF-8'> \n",
    "print(file.read()) # print file content\n",
    "print(file.readline()) # print first line of file content \n",
    "print(file.readline()) # print second line of file content\n",
    "print(file.readlines()) # print file content as list\n",
    "print(type(file.readlines())) # print type of file content as list <class 'list'>\n",
    "file.close() # close file\n"
   ]
  },
  {
   "cell_type": "code",
   "execution_count": 87,
   "metadata": {},
   "outputs": [
    {
     "name": "stdout",
     "output_type": "stream",
     "text": [
      "Hello, This is Handling file lesson.\n",
      "\n",
      "hello, python\n"
     ]
    }
   ],
   "source": [
    "file = open(\"Handling_files.txt\", \"r\") # open file Handling_files.txt\n",
    "\n",
    "for line in file: # iterate over file content\n",
    "    print(line) # print file content\n",
    "\n",
    "    if line.startswith(\"Hello\"): # if line start with Hello\n",
    "        print(\"hello, python\") # print Python is found\n",
    "        break # break \n",
    "file.close() # close file\n"
   ]
  },
  {
   "cell_type": "code",
   "execution_count": 92,
   "metadata": {},
   "outputs": [],
   "source": [
    "# File Handling cont.\n",
    "\n",
    "# File handling --> write and append\n",
    "\n",
    "# abs path => /home/mohamedismail/Documents/ML-DS-ResourceHub/Python/Handling_files.txt\n",
    "# rel path => Handling_files.txt\n",
    "\n",
    "file = open(\"Handling_files.txt\", \"w\") # open file Handling_files.txt\n",
    "file.write(\"hello, file handling\\n\") # write Hello, Python to file\n",
    "file.close() # close file\n",
    "\n"
   ]
  },
  {
   "cell_type": "code",
   "execution_count": 101,
   "metadata": {},
   "outputs": [],
   "source": [
    "# File Handling cont.\n",
    "# abs path => /home/mohamedismail/Documents/ML-DS-ResourceHub/Python/fun.txt\n",
    "# rel path => fun.txt\n",
    "\n",
    "f = open(r\"/home/mohamedismail/Documents/ML-DS-ResourceHub/Python/fun.txt\", \"w\") # open file fun.txt and use raw string to avoid escape characters \n",
    "f.write(\"Hello, Python\\n\") # write Hello, Python to file\n",
    "f.write(\"file handling is fun\\n\") # write Hello, Python to file\n",
    "f.close() # close file"
   ]
  },
  {
   "cell_type": "code",
   "execution_count": 104,
   "metadata": {},
   "outputs": [],
   "source": [
    "# File Handling cont.\n",
    "# abs path => /home/mohamedismail/Documents/ML-DS-ResourceHub/Python/emps.txt\n",
    "# rel path => emps.txt\n",
    "employee = [\"Ahmed\\n\", \"Sayed\\n\", \"Mahmoud\\n\", \"Eman\\n\", \"Samah\\n\", \"Waleed\\n\", \"Noha\\n\", \"Nada\\n\", \"Sara\\n\", \"Mohamed\\n\"] # list\n",
    "f = open(\"emp.txt\", \"w\") # open file emp.txt\n",
    "f.writelines(employee) # write employee list to file \n",
    "f.close() # close file"
   ]
  },
  {
   "cell_type": "code",
   "execution_count": 105,
   "metadata": {},
   "outputs": [],
   "source": [
    "# File Handling cont.\n",
    "# abs path => /home/mohamedismail/Documents/ML-DS-ResourceHub/Python/emps.txt\n",
    "# rel path => emps.txt\n",
    "\n",
    "f = open(\"emp.txt\", \"a\") # open file emp.txt\n",
    "f.write(\"Python\\n\") # write Python to file\n",
    "f.close() # close file"
   ]
  },
  {
   "cell_type": "code",
   "execution_count": 116,
   "metadata": {},
   "outputs": [
    {
     "name": "stdout",
     "output_type": "stream",
     "text": [
      "6\n"
     ]
    }
   ],
   "source": [
    "# File Handling cont.\n",
    "# truncate() => remove all content from file\n",
    "\n",
    "f = open(r\"/home/mohamedismail/Documents/ML-DS-ResourceHub/Python/emp.txt\", \"a\") # open file emp.txt\n",
    "f.truncate(5) # remove all content from file\n",
    "print(f.tell()) # print current position of file pointer 5 is the current position of file pointer or cursor \n",
    "# new line is one character in linux and two characters in windows\n",
    "f.close() # close file\n"
   ]
  },
  {
   "cell_type": "code",
   "execution_count": 119,
   "metadata": {},
   "outputs": [
    {
     "name": "stdout",
     "output_type": "stream",
     "text": [
      "0\n",
      "Ahmed\n"
     ]
    }
   ],
   "source": [
    "# File Handling cont.\n",
    "# seek() => change the current position of file pointer or cursor\n",
    "\n",
    "f = open(r\"/home/mohamedismail/Documents/ML-DS-ResourceHub/Python/emp.txt\", \"r\") # open file emp.txt\n",
    "\n",
    "print(f.tell()) # print current position of file pointer 5 is the current position of file pointer or cursor\n",
    "\n",
    "f.seek(0) # change the current position of file pointer or cursor to 0\n",
    "print(f.read())\n",
    "\n",
    "f.close() # close file"
   ]
  },
  {
   "cell_type": "code",
   "execution_count": 122,
   "metadata": {},
   "outputs": [],
   "source": [
    "# file handling cont.\n",
    "\n",
    "import os # import os module\n",
    "\n",
    "f = open(\"delete.txt\", \"w\") # open file delete.txt or create new file delete.txt\n",
    "f.write(\"Hello, Python\\n\") # write Hello, Python to file\n",
    "f.close() # close file\n",
    "\n",
    "os.remove(\"delete.txt\") # remove file delete.txt from current working directory when \n"
   ]
  }
 ],
 "metadata": {
  "kernelspec": {
   "display_name": "Python 3 (ipykernel)",
   "language": "python",
   "name": "python3"
  },
  "language_info": {
   "codemirror_mode": {
    "name": "ipython",
    "version": 3
   },
   "file_extension": ".py",
   "mimetype": "text/x-python",
   "name": "python",
   "nbconvert_exporter": "python",
   "pygments_lexer": "ipython3",
   "version": "3.10.9"
  },
  "toc-autonumbering": true,
  "toc-showcode": true,
  "toc-showmarkdowntxt": true
 },
 "nbformat": 4,
 "nbformat_minor": 4
}
